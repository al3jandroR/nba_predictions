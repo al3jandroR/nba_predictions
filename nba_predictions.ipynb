{
  "cells": [
    {
      "cell_type": "markdown",
      "metadata": {
        "id": "view-in-github",
        "colab_type": "text"
      },
      "source": [
        "<a href=\"https://colab.research.google.com/github/al3jandroR/nba_predictions/blob/injury_report/nba_predictions.ipynb\" target=\"_parent\"><img src=\"https://colab.research.google.com/assets/colab-badge.svg\" alt=\"Open In Colab\"/></a>"
      ]
    },
    {
      "cell_type": "code",
      "execution_count": 1,
      "metadata": {
        "colab": {
          "base_uri": "https://localhost:8080/"
        },
        "id": "8JG7Egx858ml",
        "outputId": "b64b4d5f-e4e6-4245-cd0d-4dda2ec4697c"
      },
      "outputs": [
        {
          "output_type": "stream",
          "name": "stdout",
          "text": [
            "Collecting nba_api\n",
            "  Downloading nba_api-1.9.0-py3-none-any.whl.metadata (5.8 kB)\n",
            "Requirement already satisfied: numpy>=1.26.0 in /usr/local/lib/python3.11/dist-packages (from nba_api) (2.0.2)\n",
            "Requirement already satisfied: pandas>=2.1.0 in /usr/local/lib/python3.11/dist-packages (from nba_api) (2.2.2)\n",
            "Requirement already satisfied: requests<3.0.0,>=2.32.3 in /usr/local/lib/python3.11/dist-packages (from nba_api) (2.32.3)\n",
            "Requirement already satisfied: python-dateutil>=2.8.2 in /usr/local/lib/python3.11/dist-packages (from pandas>=2.1.0->nba_api) (2.8.2)\n",
            "Requirement already satisfied: pytz>=2020.1 in /usr/local/lib/python3.11/dist-packages (from pandas>=2.1.0->nba_api) (2025.2)\n",
            "Requirement already satisfied: tzdata>=2022.7 in /usr/local/lib/python3.11/dist-packages (from pandas>=2.1.0->nba_api) (2025.2)\n",
            "Requirement already satisfied: charset-normalizer<4,>=2 in /usr/local/lib/python3.11/dist-packages (from requests<3.0.0,>=2.32.3->nba_api) (3.4.1)\n",
            "Requirement already satisfied: idna<4,>=2.5 in /usr/local/lib/python3.11/dist-packages (from requests<3.0.0,>=2.32.3->nba_api) (3.10)\n",
            "Requirement already satisfied: urllib3<3,>=1.21.1 in /usr/local/lib/python3.11/dist-packages (from requests<3.0.0,>=2.32.3->nba_api) (2.3.0)\n",
            "Requirement already satisfied: certifi>=2017.4.17 in /usr/local/lib/python3.11/dist-packages (from requests<3.0.0,>=2.32.3->nba_api) (2025.1.31)\n",
            "Requirement already satisfied: six>=1.5 in /usr/local/lib/python3.11/dist-packages (from python-dateutil>=2.8.2->pandas>=2.1.0->nba_api) (1.17.0)\n",
            "Downloading nba_api-1.9.0-py3-none-any.whl (284 kB)\n",
            "\u001b[2K   \u001b[90m━━━━━━━━━━━━━━━━━━━━━━━━━━━━━━━━━━━━━━━━\u001b[0m \u001b[32m284.9/284.9 kB\u001b[0m \u001b[31m3.6 MB/s\u001b[0m eta \u001b[36m0:00:00\u001b[0m\n",
            "\u001b[?25hInstalling collected packages: nba_api\n",
            "Successfully installed nba_api-1.9.0\n"
          ]
        }
      ],
      "source": [
        "!pip install nba_api"
      ]
    },
    {
      "cell_type": "code",
      "execution_count": 2,
      "metadata": {
        "id": "hFbCIaiQzjRe"
      },
      "outputs": [],
      "source": [
        "from nba_api.stats.endpoints import teamgamelog\n",
        "from nba_api.stats.static import teams\n",
        "from sklearn.ensemble import RandomForestClassifier\n",
        "from sklearn.ensemble import GradientBoostingClassifier\n",
        "from sklearn.model_selection import train_test_split\n",
        "from sklearn.metrics import accuracy_score\n",
        "from sklearn.model_selection import GridSearchCV\n",
        "from sklearn.model_selection import StratifiedShuffleSplit\n",
        "from sklearn.model_selection import StratifiedKFold\n",
        "from sklearn.feature_selection import SelectKBest, f_classif\n",
        "from nba_api.stats.endpoints import scoreboardv2\n",
        "from nba_api.stats.endpoints import CommonTeamRoster\n",
        "from datetime import datetime, timedelta\n",
        "from pytz import timezone\n",
        "import pandas as pd\n",
        "import matplotlib.pyplot as plt\n",
        "import time"
      ]
    },
    {
      "cell_type": "code",
      "source": [
        "pd.set_option('display.max_columns', None)\n",
        "pd.set_option('display.max_rows', None)\n",
        "pd.set_option('display.width', 0)\n",
        "pd.set_option('display.colheader_justify', 'left')"
      ],
      "metadata": {
        "id": "zftGaQ1xctTv"
      },
      "execution_count": 3,
      "outputs": []
    },
    {
      "cell_type": "code",
      "execution_count": 4,
      "metadata": {
        "id": "ROpvQATOzlLT"
      },
      "outputs": [],
      "source": [
        "nba_teams = teams.get_teams()\n",
        "teams_df = pd.DataFrame(nba_teams)"
      ]
    },
    {
      "cell_type": "code",
      "execution_count": 5,
      "metadata": {
        "id": "DIDdShX8_NM1"
      },
      "outputs": [],
      "source": [
        "# Helper function to avoid api rate limits\n",
        "def safe_request(func, *args, **kwargs):\n",
        "    while True:\n",
        "        try:\n",
        "            return func(*args, **kwargs)\n",
        "        except Exception as e:\n",
        "            print(f\"Error: {e}. Retrying in 5 seconds...\")\n",
        "            time.sleep(5)\n",
        "\n",
        "def get_team_id(abbr):\n",
        "    team = teams_df[teams_df['abbreviation'] == abbr.upper()]\n",
        "    if not team.empty:\n",
        "        return team.iloc[0]['id']\n",
        "    else:\n",
        "        raise ValueError(f\"Team abbreviation '{abbr}' not found.\")\n",
        "\n",
        "def get_team_abbr(team_id):\n",
        "    team = teams_df[teams_df['id'] == team_id]\n",
        "    if not team.empty:\n",
        "        return team.iloc[0]['abbreviation']\n",
        "    else:\n",
        "        raise ValueError(f\"No team found for ID: {team_id}\")\n",
        "\n",
        "def get_team_name(team_id):\n",
        "    team = teams_df[teams_df['id'] == team_id]\n",
        "    if not team.empty:\n",
        "        return team.iloc[0]['full_name']\n",
        "    else:\n",
        "        raise ValueError(f\"No team found for ID: {team_id}\")\n",
        "\n",
        "def get_team_stats(team_id, season, n=5):\n",
        "    log = safe_request(teamgamelog.TeamGameLog, team_id=team_id, season=season)\n",
        "    df = log.get_data_frames()[0]\n",
        "\n",
        "    df = df[['GAME_DATE', 'MATCHUP', 'WL', 'PTS', 'OREB', 'DREB', 'FG_PCT', 'AST', 'TOV', 'STL', 'BLK']].copy()\n",
        "\n",
        "    df['SEASON'] = season\n",
        "    df['TEAM'] = get_team_name(team_id)\n",
        "    df['HOME'] = df['MATCHUP'].str.contains('vs.').astype(int)\n",
        "    df['WIN'] = df['WL'].apply(lambda x: 1 if x == 'W' else 0)\n",
        "    df['STREAK'] = df['WIN'].rolling(window=n).sum().shift(-1).fillna(0)\n",
        "    df['OPP_ABBR'] = df['MATCHUP'].str.extract(r'@ (\\w+)|vs\\. (\\w+)').bfill(axis=1).iloc[:, 0]\n",
        "\n",
        "    # avg stats from last 5 games\n",
        "    rolling_features = ['PTS', 'OREB', 'DREB', 'FG_PCT', 'AST', 'TOV', 'STL', 'BLK']\n",
        "    for col in rolling_features:\n",
        "        df[f'{col}_AVG'] = df[col].rolling(window=n).mean().shift(-1)\n",
        "\n",
        "    df['DEFENSE_SCORE'] = df['STL_AVG'] + df['BLK_AVG'] + df['DREB_AVG']\n",
        "    df['AST_TOV_RATIO'] = df['AST_AVG'] / (df['TOV_AVG'] + 1)\n",
        "    df['GAME_DATE'] = pd.to_datetime(df['GAME_DATE'], format='%b %d, %Y')\n",
        "    df['EFFICIENCY'] = df['FG_PCT_AVG'] * df['PTS_AVG']\n",
        "    df['PREV_GAME_DATE'] = df['GAME_DATE'].shift(-1)\n",
        "    df['DAYS_REST'] = (df['GAME_DATE'] - df['PREV_GAME_DATE']).dt.days.clip(lower=0)\n",
        "    df['BACK_TO_BACK'] = (df['GAME_DATE'] - df['PREV_GAME_DATE']).dt.days.eq(1).astype(int)\n",
        "    df['B2B_ROAD'] = (df['BACK_TO_BACK'] == 1) & (df['HOME'] == 0).astype(int)\n",
        "\n",
        "    df['FORM_SCORE'] = df['AST_TOV_RATIO'] + df['DEFENSE_SCORE'] + df['EFFICIENCY']\n",
        "\n",
        "    df = df.dropna().reset_index(drop=True)\n",
        "    return df\n",
        "\n",
        "def add_opponent_features(df):\n",
        "    abbr_to_name = teams_df.set_index('abbreviation')['full_name'].to_dict()\n",
        "    df['OPPONENT_TEAM'] = df['OPP_ABBR'].map(abbr_to_name)\n",
        "\n",
        "    df['GAME_KEY'] = df['GAME_DATE'].astype(str) + \"_\" + df['TEAM']\n",
        "    df['OPP_GAME_KEY'] = df['GAME_DATE'].astype(str) + \"_\" + df['OPPONENT_TEAM']\n",
        "\n",
        "    eff_map = df.set_index('GAME_KEY')['EFFICIENCY'].to_dict()\n",
        "    form_map = df.set_index('GAME_KEY')['FORM_SCORE'].to_dict()\n",
        "    streak_map = df.set_index('GAME_KEY')['STREAK'].to_dict()\n",
        "\n",
        "    df['OPP_EFFICIENCY'] = df['OPP_GAME_KEY'].map(eff_map).fillna(0)\n",
        "    df['OPP_FORM_SCORE'] = df['OPP_GAME_KEY'].map(form_map).fillna(0)\n",
        "    df['OPP_STREAK'] = df['OPP_GAME_KEY'].map(streak_map).fillna(0)\n",
        "\n",
        "    df['NET_EFFICIENCY'] = df['EFFICIENCY'] - df['OPP_EFFICIENCY']\n",
        "    df['NET_FORM_SCORE'] = df['FORM_SCORE'] - df['OPP_FORM_SCORE']\n",
        "    df['NET_STREAK'] = df['STREAK'] - df['OPP_STREAK']\n",
        "\n",
        "    df = df.dropna().reset_index(drop=True)\n",
        "    return df\n",
        "\n",
        "def get_injuries():\n",
        "    url = \"https://www.espn.com/nba/injuries\"\n",
        "    tables = pd.read_html(url)\n",
        "\n",
        "    all_injuries = []\n",
        "\n",
        "    for table in tables:\n",
        "        all_injuries.append(table)\n",
        "\n",
        "    if not all_injuries:\n",
        "        print(\"No injuries posted today.\")\n",
        "        return pd.DataFrame()\n",
        "\n",
        "    df = pd.concat(all_injuries, ignore_index=True)\n",
        "    df.columns = df.columns.str.upper()\n",
        "    return df[['NAME', 'STATUS', 'EST. RETURN DATE']]\n",
        "\n",
        "def get_team_injuries(team_abbr, injury_df):\n",
        "    team_injuries = injury_df[injury_df['TEAM'] == team_abbr]\n",
        "\n",
        "    if team_injuries.empty:\n",
        "        return \"None\"\n",
        "\n",
        "    return \", \".join(f\"{row['NAME']} ({row['STATUS']})\" for _, row in team_injuries.iterrows())\n",
        "\n",
        "def get_all_rosters():\n",
        "    all_rosters = []\n",
        "\n",
        "    for _, row in teams_df.iterrows():\n",
        "        team_id = row['id']\n",
        "        team_abbr = row['abbreviation']\n",
        "        team_name = row['full_name']\n",
        "\n",
        "        try:\n",
        "            roster = CommonTeamRoster(team_id=team_id, season='2024-25')\n",
        "            roster_df = roster.get_data_frames()[0]\n",
        "            roster_df['TEAM'] = team_abbr\n",
        "            all_rosters.append(roster_df)\n",
        "            time.sleep(1)\n",
        "        except Exception as e:\n",
        "            print(f\"Skipping {team_name} due to error: {e}\")\n",
        "\n",
        "    final_roster = pd.concat(all_rosters, ignore_index=True)\n",
        "    final_roster.columns = final_roster.columns.str.upper()\n",
        "    return final_roster[['PLAYER', 'TEAM']]"
      ]
    },
    {
      "cell_type": "code",
      "execution_count": 6,
      "metadata": {
        "colab": {
          "base_uri": "https://localhost:8080/"
        },
        "collapsed": true,
        "id": "PavB_CjSODF6",
        "outputId": "2519ec61-8aef-4220-f9a2-39e30c9dfa68"
      },
      "outputs": [
        {
          "output_type": "stream",
          "name": "stdout",
          "text": [
            "Loading Atlanta Hawks - 2023-24...\n",
            "Loading Boston Celtics - 2023-24...\n",
            "Loading Cleveland Cavaliers - 2023-24...\n",
            "Loading New Orleans Pelicans - 2023-24...\n",
            "Loading Chicago Bulls - 2023-24...\n",
            "Loading Dallas Mavericks - 2023-24...\n",
            "Loading Denver Nuggets - 2023-24...\n",
            "Loading Golden State Warriors - 2023-24...\n",
            "Loading Houston Rockets - 2023-24...\n",
            "Loading Los Angeles Clippers - 2023-24...\n",
            "Loading Los Angeles Lakers - 2023-24...\n",
            "Loading Miami Heat - 2023-24...\n",
            "Loading Milwaukee Bucks - 2023-24...\n",
            "Loading Minnesota Timberwolves - 2023-24...\n",
            "Loading Brooklyn Nets - 2023-24...\n",
            "Loading New York Knicks - 2023-24...\n",
            "Loading Orlando Magic - 2023-24...\n",
            "Loading Indiana Pacers - 2023-24...\n",
            "Loading Philadelphia 76ers - 2023-24...\n",
            "Loading Phoenix Suns - 2023-24...\n",
            "Loading Portland Trail Blazers - 2023-24...\n",
            "Loading Sacramento Kings - 2023-24...\n",
            "Loading San Antonio Spurs - 2023-24...\n",
            "Loading Oklahoma City Thunder - 2023-24...\n",
            "Loading Toronto Raptors - 2023-24...\n",
            "Loading Utah Jazz - 2023-24...\n",
            "Loading Memphis Grizzlies - 2023-24...\n",
            "Loading Washington Wizards - 2023-24...\n",
            "Loading Detroit Pistons - 2023-24...\n",
            "Loading Charlotte Hornets - 2023-24...\n",
            "Loading Atlanta Hawks - 2024-25...\n",
            "Loading Boston Celtics - 2024-25...\n",
            "Loading Cleveland Cavaliers - 2024-25...\n",
            "Loading New Orleans Pelicans - 2024-25...\n",
            "Loading Chicago Bulls - 2024-25...\n",
            "Loading Dallas Mavericks - 2024-25...\n",
            "Loading Denver Nuggets - 2024-25...\n",
            "Loading Golden State Warriors - 2024-25...\n",
            "Loading Houston Rockets - 2024-25...\n",
            "Loading Los Angeles Clippers - 2024-25...\n",
            "Loading Los Angeles Lakers - 2024-25...\n",
            "Loading Miami Heat - 2024-25...\n",
            "Loading Milwaukee Bucks - 2024-25...\n",
            "Loading Minnesota Timberwolves - 2024-25...\n",
            "Loading Brooklyn Nets - 2024-25...\n",
            "Loading New York Knicks - 2024-25...\n",
            "Loading Orlando Magic - 2024-25...\n",
            "Loading Indiana Pacers - 2024-25...\n",
            "Loading Philadelphia 76ers - 2024-25...\n",
            "Loading Phoenix Suns - 2024-25...\n",
            "Loading Portland Trail Blazers - 2024-25...\n",
            "Loading Sacramento Kings - 2024-25...\n",
            "Loading San Antonio Spurs - 2024-25...\n",
            "Loading Oklahoma City Thunder - 2024-25...\n",
            "Loading Toronto Raptors - 2024-25...\n",
            "Loading Utah Jazz - 2024-25...\n",
            "Loading Memphis Grizzlies - 2024-25...\n",
            "Loading Washington Wizards - 2024-25...\n",
            "Loading Detroit Pistons - 2024-25...\n",
            "Loading Charlotte Hornets - 2024-25...\n"
          ]
        }
      ],
      "source": [
        "all_team_dfs = []\n",
        "seasons = ['2023-24', '2024-25']\n",
        "for season in seasons:\n",
        "  for team in nba_teams:\n",
        "      try:\n",
        "          print(f\"Loading {team['full_name']} - {season}...\")\n",
        "          team_data = get_team_stats(team['id'], season)\n",
        "          team_data['Team'] = team['full_name']\n",
        "\n",
        "          all_team_dfs.append(team_data)\n",
        "          time.sleep(1.5)\n",
        "      except Exception as e:\n",
        "          print(f\"Skipping {team['full_name']} due to error\")"
      ]
    },
    {
      "cell_type": "code",
      "execution_count": 7,
      "metadata": {
        "id": "7RM2ELqiZImS"
      },
      "outputs": [],
      "source": [
        "df = pd.concat(all_team_dfs).reset_index(drop=True)\n",
        "team_data = add_opponent_features(df)\n",
        "features = ['AST_TOV_RATIO', 'DEFENSE_SCORE', 'EFFICIENCY', 'FG_PCT_AVG', 'PTS_AVG', 'FORM_SCORE', 'NET_FORM_SCORE', 'NET_EFFICIENCY', 'NET_STREAK', 'STREAK']\n",
        "X = df[features]\n",
        "y = df['WIN']\n",
        "\n",
        "sss = StratifiedShuffleSplit(n_splits=1, test_size=0.3, random_state=42)\n",
        "for train_index, test_index in sss.split(X, y):\n",
        "    X_train, X_test = X.iloc[train_index], X.iloc[test_index]\n",
        "    y_train, y_test = y.iloc[train_index], y.iloc[test_index]"
      ]
    },
    {
      "cell_type": "code",
      "execution_count": 8,
      "metadata": {
        "colab": {
          "base_uri": "https://localhost:8080/"
        },
        "id": "4GPcfJ2E2U6C",
        "outputId": "3952579a-6eed-4a8d-a533-c972925915f6"
      },
      "outputs": [
        {
          "output_type": "stream",
          "name": "stdout",
          "text": [
            "Best Random Forest params: {'max_depth': None, 'min_samples_leaf': 4, 'min_samples_split': 10, 'n_estimators': 100}\n",
            "Best Random Forest score: 0.782909460834181\n",
            "Best Gradient Boosting params: {'learning_rate': 0.05, 'max_depth': 3, 'n_estimators': 100}\n",
            "Best Gradient Boosting score: 0.7841302136317396\n"
          ]
        }
      ],
      "source": [
        "best_model = None\n",
        "best_score = 0\n",
        "sss = StratifiedShuffleSplit(n_splits=5, test_size=0.3, random_state=42)\n",
        "\n",
        "rf_param_grid = {\n",
        "    'n_estimators': [100, 300],\n",
        "    'max_depth': [None, 10, 20],\n",
        "    'min_samples_split': [2, 5, 10],\n",
        "    'min_samples_leaf': [1, 2, 4],\n",
        "}\n",
        "rf_grid = GridSearchCV(RandomForestClassifier(random_state=42), rf_param_grid, cv=sss, scoring='accuracy')\n",
        "rf_grid.fit(X_train, y_train)\n",
        "print(\"Best Random Forest params:\", rf_grid.best_params_)\n",
        "print(\"Best Random Forest score:\", rf_grid.best_score_)\n",
        "if rf_grid.best_score_ > best_score:\n",
        "    best_score = rf_grid.best_score_\n",
        "    best_model = rf_grid.best_estimator_\n",
        "\n",
        "gb_param_grid = {\n",
        "    'n_estimators': [100, 300],\n",
        "    'learning_rate': [0.05, 0.1],\n",
        "    'max_depth': [3, 5]\n",
        "}\n",
        "gb_grid = GridSearchCV(GradientBoostingClassifier(random_state=42), gb_param_grid, cv=sss, scoring='accuracy')\n",
        "gb_grid.fit(X_train, y_train)\n",
        "print(\"Best Gradient Boosting params:\", gb_grid.best_params_)\n",
        "print(\"Best Gradient Boosting score:\", gb_grid.best_score_)\n",
        "if gb_grid.best_score_ > best_score:\n",
        "    best_score = gb_grid.best_score_\n",
        "    best_model = gb_grid.best_estimator_"
      ]
    },
    {
      "cell_type": "code",
      "execution_count": 9,
      "metadata": {
        "colab": {
          "base_uri": "https://localhost:8080/",
          "height": 805
        },
        "id": "a8K0BtPdOHar",
        "outputId": "e3a67970-98a5-47dc-95ea-f94a369d6885"
      },
      "outputs": [
        {
          "output_type": "stream",
          "name": "stdout",
          "text": [
            "Model Accuracy: 0.80\n",
            "Train Accuracy: 0.81\n",
            "Test Accuracy:  0.80\n"
          ]
        },
        {
          "output_type": "display_data",
          "data": {
            "text/plain": [
              "<Figure size 2400x600 with 1 Axes>"
            ],
            "image/png": "[encoded data removed]"
          },
          "metadata": {}
        },
        {
          "output_type": "stream",
          "name": "stdout",
          "text": [
            "Feature Comparison (F-test vs Model Importance):\n",
            "Feature                 F-Score     Model Importance\n",
            "AST_TOV_RATIO            136.94               0.0101\n",
            "DEFENSE_SCORE            180.52               0.0033\n",
            "EFFICIENCY               303.46               0.0016\n",
            "FG_PCT_AVG               239.17               0.0092\n",
            "PTS_AVG                  283.35               0.0064\n",
            "FORM_SCORE               416.92               0.0047\n",
            "NET_FORM_SCORE           918.81               0.0072\n",
            "NET_EFFICIENCY           702.55               0.0126\n",
            "NET_STREAK              2434.67               0.9306\n",
            "STREAK                  1217.12               0.0144\n"
          ]
        }
      ],
      "source": [
        "clf = best_model\n",
        "clf.fit(X_train, y_train)\n",
        "\n",
        "y_pred = clf.predict(X_test)\n",
        "accuracy = accuracy_score(y_test, y_pred)\n",
        "print(f\"Model Accuracy: {accuracy:.2f}\")\n",
        "\n",
        "train_acc = accuracy_score(y_train, clf.predict(X_train))\n",
        "test_acc = accuracy_score(y_test, clf.predict(X_test))\n",
        "\n",
        "print(f\"Train Accuracy: {train_acc:.2f}\")\n",
        "print(f\"Test Accuracy:  {test_acc:.2f}\")\n",
        "\n",
        "importances = clf.feature_importances_\n",
        "plt.figure(figsize=(24, 6))\n",
        "plt.bar(features, importances)\n",
        "plt.title(\"Feature Importances\")\n",
        "plt.ylabel(\"Importance\")\n",
        "plt.show()\n",
        "\n",
        "selector = SelectKBest(score_func=f_classif, k='all')\n",
        "selector.fit(X_train, y_train)\n",
        "f_scores = selector.scores_\n",
        "\n",
        "print(\"Feature Comparison (F-test vs Model Importance):\")\n",
        "print(\"{:<20s} {:>10s} {:>20s}\".format(\"Feature\", \"F-Score\", \"Model Importance\"))\n",
        "for name, f, imp in zip(X_train.columns, f_scores, importances):\n",
        "    print(f\"{name:<20s} {f:10.2f} {imp:20.4f}\")"
      ]
    },
    {
      "cell_type": "code",
      "execution_count": 10,
      "metadata": {
        "colab": {
          "base_uri": "https://localhost:8080/"
        },
        "id": "8JmLGJDUsRgW",
        "outputId": "64dd366f-fb94-419e-d1ef-f0b53433b33e"
      },
      "outputs": [
        {
          "output_type": "stream",
          "name": "stdout",
          "text": [
            "Fetching games for: 2025-04-15 \n",
            "\n",
            "Loading injury report...\n",
            "Date       Matchup   Predicted_Winner  Home_Prob  Away_Prob  Home_raw  Away_raw Home_Injuries                          Away_Injuries                                                                                                                                                                                                                                               \n",
            "2025-04-15 ATL @ ORL ATL              0.48       0.52       0.5       0.54      Jalen Suggs (Out), Moritz Wagner (Out)                                                                                                                                                   Clint Capela (Out), Trae Young (Day-To-Day), Larry Nance Jr. (Out), Jalen Johnson (Out), Kobe Bufkin (Out)\n",
            "2025-04-15 MEM @ GSW MEM              0.30       0.70       0.3       0.70                                        None Luke Kennard (Day-To-Day), Zach Edey (Day-To-Day), Scotty Pippen Jr. (Day-To-Day), Ja Morant (Day-To-Day), Jaren Jackson Jr. (Day-To-Day), Desmond Bane (Day-To-Day), Santi Aldama (Day-To-Day), Zyon Pullin (Out), Jaylen Wells (Out), Brandon Clarke (Out)\n",
            "None\n"
          ]
        }
      ],
      "source": [
        "#####--------RUN MODEL FOR TODAYS GAMES--------#####\n",
        "today = datetime.now(timezone('US/Eastern')).strftime('%Y-%m-%d')\n",
        "tomorrow = (datetime.now(timezone('US/Eastern')) + timedelta(days=1)).strftime('%Y-%m-%d')\n",
        "date = tomorrow\n",
        "\n",
        "print(\"Fetching games for:\", date, \"\\n\")\n",
        "scoreboard = safe_request(scoreboardv2.ScoreboardV2, game_date=date)\n",
        "games = scoreboard.get_data_frames()[0]\n",
        "\n",
        "print(\"Loading injury report...\")\n",
        "injury_df = get_injuries()\n",
        "roster_df = get_all_rosters()\n",
        "\n",
        "injury_df = injury_df.merge(\n",
        "    roster_df[['PLAYER', 'TEAM']],\n",
        "    left_on='NAME',\n",
        "    right_on='PLAYER',\n",
        "    how='left'\n",
        ")\n",
        "\n",
        "matchups = games[['HOME_TEAM_ID', 'VISITOR_TEAM_ID']]\n",
        "\n",
        "output = []\n",
        "\n",
        "for _, row in matchups.iterrows():\n",
        "    home_id = row['HOME_TEAM_ID']\n",
        "    away_id = row['VISITOR_TEAM_ID']\n",
        "    home = get_team_abbr(home_id)\n",
        "    away = get_team_abbr(away_id)\n",
        "\n",
        "    try:\n",
        "        home_df = get_team_stats(home_id, season='2024-25').head(1).copy()\n",
        "        away_df = get_team_stats(away_id, season='2024-25').head(1).copy()\n",
        "\n",
        "        home_df['OPP_ABBR'] = away\n",
        "        away_df['OPP_ABBR'] = home\n",
        "\n",
        "        matchup_df = pd.concat([home_df, away_df], ignore_index=True)\n",
        "        matchup_df = add_opponent_features(matchup_df)\n",
        "\n",
        "        home_stats = matchup_df[matchup_df['TEAM'] == get_team_name(home_id)].copy()\n",
        "        away_stats = matchup_df[matchup_df['TEAM'] == get_team_name(away_id)].copy()\n",
        "\n",
        "        X_home = home_stats[features]\n",
        "        X_away = away_stats[features]\n",
        "\n",
        "        home_proba = clf.predict_proba(X_home)[0][1]\n",
        "        away_proba = clf.predict_proba(X_away)[0][1]\n",
        "        total = home_proba + away_proba\n",
        "        nhome_proba = home_proba / total\n",
        "        naway_proba = away_proba / total\n",
        "\n",
        "        winner = home if home_proba > away_proba else away\n",
        "\n",
        "        home_injuries = get_team_injuries(home, injury_df)\n",
        "        away_injuries = get_team_injuries(away, injury_df)\n",
        "\n",
        "        output.append({\n",
        "            'Date': date,\n",
        "            'Matchup': f\"{away} @ {home}\",\n",
        "            'Predicted_Winner': winner,\n",
        "            'Home_Prob': round(nhome_proba, 2),\n",
        "            'Away_Prob': round(naway_proba, 2),\n",
        "            'Home_raw': round(home_proba, 2),\n",
        "            'Away_raw': round(away_proba, 2),\n",
        "            'Home_Injuries': home_injuries,\n",
        "            'Away_Injuries': away_injuries\n",
        "        })\n",
        "\n",
        "    except Exception as e:\n",
        "        print(f\"Error predicting {away} @ {home}: {e}\")\n",
        "\n",
        "output_df = pd.DataFrame(output)\n",
        "pd.set_option('display.max_columns', None)\n",
        "print(print(output_df.to_string(index=False)))"
      ]
    }
  ],
  "metadata": {
    "colab": {
      "provenance": [],
      "include_colab_link": true
    },
    "kernelspec": {
      "display_name": "Python 3",
      "name": "python3"
    },
    "language_info": {
      "name": "python"
    }
  },
  "nbformat": 4,
  "nbformat_minor": 0
}