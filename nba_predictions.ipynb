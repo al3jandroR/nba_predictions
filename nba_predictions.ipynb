{
  "nbformat": 4,
  "nbformat_minor": 0,
  "metadata": {
    "colab": {
      "provenance": []
    },
    "kernelspec": {
      "name": "python3",
      "display_name": "Python 3"
    },
    "language_info": {
      "name": "python"
    }
  },
  "cells": [
    {
      "cell_type": "code",
      "execution_count": 123,
      "metadata": {
        "id": "8JG7Egx858ml",
        "colab": {
          "base_uri": "https://localhost:8080/"
        },
        "outputId": "11dbd898-945c-4f18-a202-faba263739a0"
      },
      "outputs": [
        {
          "output_type": "stream",
          "name": "stdout",
          "text": [
            "Requirement already satisfied: nba_api in /usr/local/lib/python3.11/dist-packages (1.9.0)\n",
            "Requirement already satisfied: numpy>=1.26.0 in /usr/local/lib/python3.11/dist-packages (from nba_api) (2.0.2)\n",
            "Requirement already satisfied: pandas>=2.1.0 in /usr/local/lib/python3.11/dist-packages (from nba_api) (2.2.2)\n",
            "Requirement already satisfied: requests<3.0.0,>=2.32.3 in /usr/local/lib/python3.11/dist-packages (from nba_api) (2.32.3)\n",
            "Requirement already satisfied: python-dateutil>=2.8.2 in /usr/local/lib/python3.11/dist-packages (from pandas>=2.1.0->nba_api) (2.8.2)\n",
            "Requirement already satisfied: pytz>=2020.1 in /usr/local/lib/python3.11/dist-packages (from pandas>=2.1.0->nba_api) (2025.2)\n",
            "Requirement already satisfied: tzdata>=2022.7 in /usr/local/lib/python3.11/dist-packages (from pandas>=2.1.0->nba_api) (2025.2)\n",
            "Requirement already satisfied: charset-normalizer<4,>=2 in /usr/local/lib/python3.11/dist-packages (from requests<3.0.0,>=2.32.3->nba_api) (3.4.1)\n",
            "Requirement already satisfied: idna<4,>=2.5 in /usr/local/lib/python3.11/dist-packages (from requests<3.0.0,>=2.32.3->nba_api) (3.10)\n",
            "Requirement already satisfied: urllib3<3,>=1.21.1 in /usr/local/lib/python3.11/dist-packages (from requests<3.0.0,>=2.32.3->nba_api) (2.3.0)\n",
            "Requirement already satisfied: certifi>=2017.4.17 in /usr/local/lib/python3.11/dist-packages (from requests<3.0.0,>=2.32.3->nba_api) (2025.1.31)\n",
            "Requirement already satisfied: six>=1.5 in /usr/local/lib/python3.11/dist-packages (from python-dateutil>=2.8.2->pandas>=2.1.0->nba_api) (1.17.0)\n"
          ]
        }
      ],
      "source": [
        "!pip install nba_api"
      ]
    },
    {
      "cell_type": "code",
      "source": [
        "from nba_api.stats.endpoints import boxscoreadvancedv2\n",
        "from nba_api.stats.endpoints import teamgamelogs\n",
        "from nba_api.stats.endpoints import teamgamelog\n",
        "from nba_api.stats.endpoints import boxscorefourfactorsv2\n",
        "from nba_api.stats.static import teams\n",
        "from nba_api.stats.endpoints import leaguegamefinder\n",
        "from sklearn.ensemble import RandomForestClassifier\n",
        "from sklearn.model_selection import train_test_split\n",
        "from sklearn.metrics import accuracy_score\n",
        "from sklearn.model_selection import GridSearchCV\n",
        "import pandas as pd\n",
        "import matplotlib.pyplot as plt\n",
        "import time"
      ],
      "metadata": {
        "id": "hFbCIaiQzjRe"
      },
      "execution_count": 124,
      "outputs": []
    },
    {
      "cell_type": "code",
      "source": [
        "nba_teams = teams.get_teams()\n",
        "teams_df = pd.DataFrame(nba_teams)"
      ],
      "metadata": {
        "id": "ROpvQATOzlLT"
      },
      "execution_count": 125,
      "outputs": []
    },
    {
      "cell_type": "code",
      "source": [
        "# Helper function to avoid api rate limits\n",
        "def safe_request(func, *args, **kwargs):\n",
        "    while True:\n",
        "        try:\n",
        "            return func(*args, **kwargs)\n",
        "        except Exception as e:\n",
        "            print(f\"Error: {e}. Retrying in 5 seconds...\")\n",
        "            time.sleep(5)\n",
        "\n",
        "def get_team_id(abbr):\n",
        "    team = teams_df[teams_df['abbreviation'] == abbr.upper()]\n",
        "    if not team.empty:\n",
        "        return team.iloc[0]['id']\n",
        "    else:\n",
        "        raise ValueError(f\"Team abbreviation '{abbr}' not found.\")\n",
        "\n",
        "def get_team_stats(team_id, n=5):\n",
        "    log = safe_request(teamgamelog.TeamGameLog, team_id=team_id, season='2024-25')\n",
        "    df = log.get_data_frames()[0]\n",
        "    df = df[['GAME_DATE', 'MATCHUP', 'WL', 'PTS', 'OREB', 'DREB', 'FG_PCT', 'AST', 'TOV', 'STL', 'BLK']].copy()\n",
        "    df['WIN'] = df['WL'].apply(lambda x: 1 if x == 'W' else 0)\n",
        "\n",
        "    # avg stats from last 5 games\n",
        "    rolling_features = ['PTS', 'OREB', 'DREB', 'FG_PCT', 'AST', 'TOV', 'STL', 'BLK']\n",
        "    for col in rolling_features:\n",
        "        df[f'{col}_AVG'] = df[col].rolling(window=n).mean().shift(-1)\n",
        "\n",
        "    df = df.dropna().reset_index(drop=True)\n",
        "    return df"
      ],
      "metadata": {
        "id": "DIDdShX8_NM1"
      },
      "execution_count": 126,
      "outputs": []
    },
    {
      "cell_type": "code",
      "source": [
        "all_team_dfs = []\n",
        "for team in nba_teams:\n",
        "    try:\n",
        "        print(f\"Loading {team['full_name']}...\")\n",
        "        team_data = get_team_stats(team['id'])\n",
        "        team_data['Team'] = team['full_name']\n",
        "        all_team_dfs.append(team_data)\n",
        "        time.sleep(1.5)\n",
        "    except Exception as e:\n",
        "        print(f\"Skipping {team['full_name']} due to error\")"
      ],
      "metadata": {
        "id": "PavB_CjSODF6",
        "outputId": "9bb10787-a731-4582-d925-3c9369db8123",
        "colab": {
          "base_uri": "https://localhost:8080/"
        }
      },
      "execution_count": 127,
      "outputs": [
        {
          "output_type": "stream",
          "name": "stdout",
          "text": [
            "Loading Atlanta Hawks...\n",
            "Loading Boston Celtics...\n",
            "Loading Cleveland Cavaliers...\n",
            "Loading New Orleans Pelicans...\n",
            "Loading Chicago Bulls...\n",
            "Loading Dallas Mavericks...\n",
            "Loading Denver Nuggets...\n",
            "Loading Golden State Warriors...\n",
            "Loading Houston Rockets...\n",
            "Loading Los Angeles Clippers...\n",
            "Loading Los Angeles Lakers...\n",
            "Loading Miami Heat...\n",
            "Loading Milwaukee Bucks...\n",
            "Loading Minnesota Timberwolves...\n",
            "Loading Brooklyn Nets...\n",
            "Loading New York Knicks...\n",
            "Loading Orlando Magic...\n",
            "Loading Indiana Pacers...\n",
            "Loading Philadelphia 76ers...\n",
            "Loading Phoenix Suns...\n",
            "Loading Portland Trail Blazers...\n",
            "Loading Sacramento Kings...\n",
            "Loading San Antonio Spurs...\n",
            "Loading Oklahoma City Thunder...\n",
            "Loading Toronto Raptors...\n",
            "Loading Utah Jazz...\n",
            "Loading Memphis Grizzlies...\n",
            "Loading Washington Wizards...\n",
            "Loading Detroit Pistons...\n",
            "Loading Charlotte Hornets...\n"
          ]
        }
      ]
    },
    {
      "cell_type": "code",
      "source": [
        "df = pd.concat(all_team_dfs).reset_index(drop=True)\n",
        "features = [f'{stat}_AVG' for stat in ['PTS', 'OREB', 'DREB', 'FG_PCT', 'AST', 'TOV', 'STL', 'BLK']]\n",
        "X = df[features]\n",
        "y = df['WIN']\n",
        "\n",
        "X_train, X_test, y_train, y_test = train_test_split(X, y, test_size=0.3, random_state=42)"
      ],
      "metadata": {
        "id": "7RM2ELqiZImS"
      },
      "execution_count": 128,
      "outputs": []
    },
    {
      "cell_type": "code",
      "source": [
        "# grid search for best parameters\n",
        "param_grid = {\n",
        "    'n_estimators': [100, 300, 500],\n",
        "    'max_depth': [None, 10, 20, 30],\n",
        "    'min_samples_split': [2, 5, 10],\n",
        "    'min_samples_leaf': [1, 2, 4]\n",
        "}\n",
        "\n",
        "grid = GridSearchCV(RandomForestClassifier(random_state=42), param_grid, cv=3, scoring='accuracy')\n",
        "grid.fit(X_train, y_train)\n",
        "\n",
        "print(f\"Best parameters: {grid.best_params_}\")\n",
        "print(f\"Best score: {grid.best_score_:.2f}\")"
      ],
      "metadata": {
        "colab": {
          "base_uri": "https://localhost:8080/"
        },
        "id": "4GPcfJ2E2U6C",
        "outputId": "a2b32614-caf5-49d7-f07d-d59c3251d07c"
      },
      "execution_count": 129,
      "outputs": [
        {
          "output_type": "stream",
          "name": "stdout",
          "text": [
            "Best parameters: {'max_depth': 10, 'min_samples_leaf': 2, 'min_samples_split': 5, 'n_estimators': 100}\n",
            "Best score: 0.65\n"
          ]
        }
      ]
    },
    {
      "cell_type": "code",
      "source": [
        "clf = RandomForestClassifier(**grid.best_params_, random_state=42)\n",
        "clf.fit(X_train, y_train)\n",
        "\n",
        "y_pred = clf.predict(X_test)\n",
        "accuracy = accuracy_score(y_test, y_pred)\n",
        "print(f\"Model Accuracy: {accuracy:.2f}\")\n",
        "\n",
        "# Feature Importance\n",
        "importances = clf.feature_importances_\n",
        "plt.figure(figsize=(10, 6))\n",
        "plt.bar(features, importances)\n",
        "plt.title(\"Feature Importances\")\n",
        "plt.ylabel(\"Importance\")\n",
        "plt.show()"
      ],
      "metadata": {
        "id": "a8K0BtPdOHar",
        "outputId": "d957f065-f161-4ce1-c438-1f46964903e6",
        "colab": {
          "base_uri": "https://localhost:8080/",
          "height": 562
        }
      },
      "execution_count": 130,
      "outputs": [
        {
          "output_type": "stream",
          "name": "stdout",
          "text": [
            "Model Accuracy: 0.65\n"
          ]
        },
        {
          "output_type": "display_data",
          "data": {
            "text/plain": [
              "<Figure size 1000x600 with 1 Axes>"
            ],
            "image/png": "[encoded data removed]"
          },
          "metadata": {}
        }
      ]
    },
    {
      "cell_type": "code",
      "source": [
        "team1 = 'DAL'\n",
        "team2 = 'LAC'\n",
        "\n",
        "team1_id = get_team_id(team1)\n",
        "team2_id = get_team_id(team2)\n",
        "\n",
        "team1_data = get_team_stats(team1_id)\n",
        "team2_data = get_team_stats(team2_id)\n",
        "team1_avg = team1_data.head(5)[features].mean().to_frame().T\n",
        "team2_avg = team2_data.head(5)[features].mean().to_frame().T\n",
        "\n",
        "team1_proba = clf.predict_proba(team1_avg)[0][1]\n",
        "team2_proba = clf.predict_proba(team2_avg)[0][1]\n",
        "\n",
        "print(f\"{team1} win probability: {team1_proba:.2f}\")\n",
        "print(f\"{team2} win probability: {team2_proba:.2f}\")\n",
        "print(f\"Predicted winner: {team1 if team1_proba > team2_proba else team2}\\n\")\n",
        "\n",
        "# Estimate Over/Under (sum of last 5 avg PTS from both teams)\n",
        "total_points_estimate = team1_avg[f'PTS_AVG'].values[0] + team2_avg[f'PTS_AVG'].values[0]\n",
        "print(f\"Estimated total points (Over/Under baseline): {total_points_estimate:.1f}\")\n",
        "\n",
        "# Potential spread (difference in predicted win probabilities)\n",
        "spread_estimate = abs(team1_proba - team2_proba) * 10\n",
        "print(f\"Estimated spread: {spread_estimate:.1f}\")"
      ],
      "metadata": {
        "id": "MV5yMdiAdPNd",
        "outputId": "599d4c25-ec4e-4b5d-fbf0-2845632a6572",
        "colab": {
          "base_uri": "https://localhost:8080/"
        }
      },
      "execution_count": 131,
      "outputs": [
        {
          "output_type": "stream",
          "name": "stdout",
          "text": [
            "DAL win probability: 0.56\n",
            "LAC win probability: 0.81\n",
            "Predicted winner: LAC\n",
            "\n",
            "Estimated total points (Over/Under baseline): 228.2\n",
            "Estimated spread: 2.5\n"
          ]
        }
      ]
    }
  ]
}