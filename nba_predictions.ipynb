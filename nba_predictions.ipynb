{
  "nbformat": 4,
  "nbformat_minor": 0,
  "metadata": {
    "colab": {
      "provenance": []
    },
    "kernelspec": {
      "name": "python3",
      "display_name": "Python 3"
    },
    "language_info": {
      "name": "python"
    }
  },
  "cells": [
    {
      "cell_type": "code",
      "execution_count": null,
      "metadata": {
        "id": "8JG7Egx858ml"
      },
      "outputs": [],
      "source": [
        "!pip install nba_api"
      ]
    },
    {
      "cell_type": "code",
      "source": [
        "from nba_api.stats.endpoints import teamgamelog\n",
        "from nba_api.stats.static import teams\n",
        "from sklearn.ensemble import RandomForestClassifier\n",
        "from sklearn.ensemble import GradientBoostingClassifier\n",
        "from sklearn.model_selection import train_test_split\n",
        "from sklearn.metrics import accuracy_score\n",
        "from sklearn.model_selection import GridSearchCV\n",
        "from sklearn.model_selection import StratifiedShuffleSplit\n",
        "import pandas as pd\n",
        "import matplotlib.pyplot as plt\n",
        "import time"
      ],
      "metadata": {
        "id": "hFbCIaiQzjRe"
      },
      "execution_count": 203,
      "outputs": []
    },
    {
      "cell_type": "code",
      "source": [
        "nba_teams = teams.get_teams()\n",
        "teams_df = pd.DataFrame(nba_teams)"
      ],
      "metadata": {
        "id": "ROpvQATOzlLT"
      },
      "execution_count": 204,
      "outputs": []
    },
    {
      "cell_type": "code",
      "source": [
        "# Helper function to avoid api rate limits\n",
        "def safe_request(func, *args, **kwargs):\n",
        "    while True:\n",
        "        try:\n",
        "            return func(*args, **kwargs)\n",
        "        except Exception as e:\n",
        "            print(f\"Error: {e}. Retrying in 5 seconds...\")\n",
        "            time.sleep(5)\n",
        "\n",
        "def get_team_id(abbr):\n",
        "    team = teams_df[teams_df['abbreviation'] == abbr.upper()]\n",
        "    if not team.empty:\n",
        "        return team.iloc[0]['id']\n",
        "    else:\n",
        "        raise ValueError(f\"Team abbreviation '{abbr}' not found.\")\n",
        "\n",
        "def get_team_stats(team_id, n=5):\n",
        "    log = safe_request(teamgamelog.TeamGameLog, team_id=team_id, season='2024-25')\n",
        "    df = log.get_data_frames()[0]\n",
        "    df = df[['GAME_DATE', 'MATCHUP', 'WL', 'PTS', 'OREB', 'DREB', 'FG_PCT', 'AST', 'TOV', 'STL', 'BLK']].copy()\n",
        "    df['WIN'] = df['WL'].apply(lambda x: 1 if x == 'W' else 0)\n",
        "    df['STREAK'] = df['WIN'].rolling(window=n).sum().shift(-1)\n",
        "    df['STREAK'] = df['STREAK'].fillna(0)\n",
        "    # avg stats from last 5 games\n",
        "    rolling_features = ['PTS', 'OREB', 'DREB', 'FG_PCT', 'AST', 'TOV', 'STL', 'BLK']\n",
        "    for col in rolling_features:\n",
        "        df[f'{col}_AVG'] = df[col].rolling(window=n).mean().shift(-1)\n",
        "    df = df.dropna().reset_index(drop=True)\n",
        "    return df"
      ],
      "metadata": {
        "id": "DIDdShX8_NM1"
      },
      "execution_count": 205,
      "outputs": []
    },
    {
      "cell_type": "code",
      "source": [
        "all_team_dfs = []\n",
        "for team in nba_teams:\n",
        "    try:\n",
        "        print(f\"Loading {team['full_name']}...\")\n",
        "        team_data = get_team_stats(team['id'])\n",
        "        team_data['Team'] = team['full_name']\n",
        "        all_team_dfs.append(team_data)\n",
        "        time.sleep(1.5)\n",
        "    except Exception as e:\n",
        "        print(f\"Skipping {team['full_name']} due to error\")"
      ],
      "metadata": {
        "colab": {
          "base_uri": "https://localhost:8080/"
        },
        "collapsed": true,
        "id": "PavB_CjSODF6",
        "outputId": "1dffce84-5702-40b8-9923-f3d2e6fe1d54"
      },
      "execution_count": 206,
      "outputs": [
        {
          "output_type": "stream",
          "name": "stdout",
          "text": [
            "Loading Atlanta Hawks...\n",
            "Loading Boston Celtics...\n",
            "Loading Cleveland Cavaliers...\n",
            "Loading New Orleans Pelicans...\n",
            "Loading Chicago Bulls...\n",
            "Loading Dallas Mavericks...\n",
            "Loading Denver Nuggets...\n",
            "Loading Golden State Warriors...\n",
            "Loading Houston Rockets...\n",
            "Loading Los Angeles Clippers...\n",
            "Loading Los Angeles Lakers...\n",
            "Loading Miami Heat...\n",
            "Loading Milwaukee Bucks...\n",
            "Loading Minnesota Timberwolves...\n",
            "Loading Brooklyn Nets...\n",
            "Loading New York Knicks...\n",
            "Loading Orlando Magic...\n",
            "Loading Indiana Pacers...\n",
            "Loading Philadelphia 76ers...\n",
            "Loading Phoenix Suns...\n",
            "Loading Portland Trail Blazers...\n",
            "Loading Sacramento Kings...\n",
            "Loading San Antonio Spurs...\n",
            "Loading Oklahoma City Thunder...\n",
            "Loading Toronto Raptors...\n",
            "Loading Utah Jazz...\n",
            "Loading Memphis Grizzlies...\n",
            "Loading Washington Wizards...\n",
            "Loading Detroit Pistons...\n",
            "Loading Charlotte Hornets...\n"
          ]
        }
      ]
    },
    {
      "cell_type": "code",
      "source": [
        "df = pd.concat(all_team_dfs).reset_index(drop=True)\n",
        "features = [f'{stat}_AVG' for stat in ['PTS', 'OREB', 'DREB', 'FG_PCT', 'AST', 'TOV', 'STL', 'BLK']] + ['STREAK']\n",
        "X = df[features]\n",
        "y = df['WIN']\n",
        "\n",
        "sss = StratifiedShuffleSplit(n_splits=1, test_size=0.3, random_state=42)\n",
        "for train_index, test_index in sss.split(X, y):\n",
        "    X_train, X_test = X.iloc[train_index], X.iloc[test_index]\n",
        "    y_train, y_test = y.iloc[train_index], y.iloc[test_index]"
      ],
      "metadata": {
        "id": "7RM2ELqiZImS"
      },
      "execution_count": 207,
      "outputs": []
    },
    {
      "cell_type": "code",
      "source": [
        "best_model = None\n",
        "best_score = 0\n",
        "\n",
        "rf_param_grid = {\n",
        "    'n_estimators': [100, 300],\n",
        "    'max_depth': [None, 10, 20],\n",
        "    'min_samples_split': [2, 5, 10],\n",
        "    'min_samples_leaf': [1, 2, 4],\n",
        "}\n",
        "rf_grid = GridSearchCV(RandomForestClassifier(random_state=42), rf_param_grid, cv=3, scoring='accuracy')\n",
        "rf_grid.fit(X_train, y_train)\n",
        "print(\"Best Random Forest params:\", rf_grid.best_params_)\n",
        "print(\"Best Random Forest score:\", rf_grid.best_score_)\n",
        "if rf_grid.best_score_ > best_score:\n",
        "    best_score = rf_grid.best_score_\n",
        "    best_model = rf_grid.best_estimator_\n",
        "\n",
        "gb_param_grid = {\n",
        "    'n_estimators': [100, 300],\n",
        "    'learning_rate': [0.05, 0.1],\n",
        "    'max_depth': [3, 5]\n",
        "}\n",
        "gb_grid = GridSearchCV(GradientBoostingClassifier(random_state=42), gb_param_grid, cv=3, scoring='accuracy')\n",
        "gb_grid.fit(X_train, y_train)\n",
        "print(\"Best Gradient Boosting params:\", gb_grid.best_params_)\n",
        "print(\"Best Gradient Boosting score:\", gb_grid.best_score_)\n",
        "if gb_grid.best_score_ > best_score:\n",
        "    best_score = gb_grid.best_score_\n",
        "    best_model = gb_grid.best_estimator_"
      ],
      "metadata": {
        "colab": {
          "base_uri": "https://localhost:8080/"
        },
        "id": "4GPcfJ2E2U6C",
        "outputId": "615fbff2-1e8c-437b-c32f-9eacf71b5660"
      },
      "execution_count": 208,
      "outputs": [
        {
          "output_type": "stream",
          "name": "stdout",
          "text": [
            "Best Random Forest params: {'max_depth': 10, 'min_samples_leaf': 4, 'min_samples_split': 10, 'n_estimators': 300}\n",
            "Best Random Forest score: 0.7120622568093385\n",
            "Best Gradient Boosting params: {'learning_rate': 0.05, 'max_depth': 3, 'n_estimators': 100}\n",
            "Best Gradient Boosting score: 0.7153047989623865\n"
          ]
        }
      ]
    },
    {
      "cell_type": "code",
      "source": [
        "clf = best_model\n",
        "clf.fit(X_train, y_train)\n",
        "\n",
        "y_pred = clf.predict(X_test)\n",
        "accuracy = accuracy_score(y_test, y_pred)\n",
        "print(f\"Model Accuracy: {accuracy:.2f}\")\n",
        "\n",
        "train_acc = accuracy_score(y_train, clf.predict(X_train))\n",
        "test_acc = accuracy_score(y_test, clf.predict(X_test))\n",
        "\n",
        "print(f\"Train Accuracy: {train_acc:.2f}\")\n",
        "print(f\"Test Accuracy:  {test_acc:.2f}\")\n",
        "\n",
        "importances = clf.feature_importances_\n",
        "plt.figure(figsize=(10, 6))\n",
        "plt.bar(features, importances)\n",
        "plt.title(\"Feature Importances\")\n",
        "plt.ylabel(\"Importance\")\n",
        "plt.show()"
      ],
      "metadata": {
        "colab": {
          "base_uri": "https://localhost:8080/",
          "height": 597
        },
        "id": "a8K0BtPdOHar",
        "outputId": "ddce32d9-9cfa-4efd-974e-34c8c33ef014"
      },
      "execution_count": 209,
      "outputs": [
        {
          "output_type": "stream",
          "name": "stdout",
          "text": [
            "Model Accuracy: 0.74\n",
            "Train Accuracy: 0.75\n",
            "Test Accuracy:  0.74\n"
          ]
        },
        {
          "output_type": "display_data",
          "data": {
            "text/plain": [
              "<Figure size 1000x600 with 1 Axes>"
            ],
            "image/png": "[encoded data removed]"
          },
          "metadata": {}
        }
      ]
    },
    {
      "cell_type": "code",
      "source": [
        "team1 = 'DAL'\n",
        "team2 = 'LAC'\n",
        "\n",
        "team1_id = get_team_id(team1)\n",
        "team2_id = get_team_id(team2)\n",
        "\n",
        "team1_data = get_team_stats(team1_id)\n",
        "team2_data = get_team_stats(team2_id)\n",
        "\n",
        "team1_input = team1_data.head(1)[features]\n",
        "team2_input = team2_data.head(1)[features]\n",
        "\n",
        "team1_proba = clf.predict_proba(team1_input)[0][1]\n",
        "team2_proba = clf.predict_proba(team2_input)[0][1]\n",
        "\n",
        "print(f\"{team1} win probability: {team1_proba:.2f}\")\n",
        "print(f\"{team2} win probability: {team2_proba:.2f}\")\n",
        "print(f\"Predicted winner: {team1 if team1_proba > team2_proba else team2}\\n\")\n",
        "\n",
        "# Estimate Over/Under (sum of last 5 avg PTS from both teams)\n",
        "total_points_estimate = team1_input[f'PTS_AVG'].values[0] + team2_input[f'PTS_AVG'].values[0]\n",
        "print(f\"Estimated total points (Over/Under baseline): {total_points_estimate:.1f}\")\n",
        "\n",
        "# Potential spread (difference in predicted win probabilities)\n",
        "spread_estimate = abs(team1_proba - team2_proba) * 10\n",
        "print(f\"Estimated spread: {spread_estimate:.1f}\")"
      ],
      "metadata": {
        "colab": {
          "base_uri": "https://localhost:8080/"
        },
        "id": "MV5yMdiAdPNd",
        "outputId": "33a9d526-06d7-4e44-ea34-2506aafc0183"
      },
      "execution_count": 220,
      "outputs": [
        {
          "output_type": "stream",
          "name": "stdout",
          "text": [
            "DAL win probability: 0.35\n",
            "LAC win probability: 0.79\n",
            "Predicted winner: LAC\n",
            "\n",
            "Estimated total points (Over/Under baseline): 225.0\n",
            "Estimated spread: 4.4\n"
          ]
        }
      ]
    }
  ]
}