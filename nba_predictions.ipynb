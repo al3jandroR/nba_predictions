{
  "cells": [
    {
      "cell_type": "markdown",
      "metadata": {
        "colab_type": "text",
        "id": "view-in-github"
      },
      "source": [
        "<a href=\"https://colab.research.google.com/github/al3jandroR/nba_predictions/blob/colab/nba_predictions.ipynb\" target=\"_parent\"><img src=\"https://colab.research.google.com/assets/colab-badge.svg\" alt=\"Open In Colab\"/></a>"
      ]
    },
    {
      "cell_type": "code",
      "execution_count": 1,
      "metadata": {
        "colab": {
          "base_uri": "https://localhost:8080/"
        },
        "id": "8JG7Egx858ml",
        "outputId": "aad2008f-4fee-4e70-fe9d-1a1dbdb30c3b"
      },
      "outputs": [
        {
          "name": "stdout",
          "output_type": "stream",
          "text": [
            "Requirement already satisfied: nba_api in c:\\users\\them4\\anaconda3\\lib\\site-packages (1.9.0)\n",
            "Requirement already satisfied: numpy>=1.26.0 in c:\\users\\them4\\anaconda3\\lib\\site-packages (from nba_api) (1.26.4)\n",
            "Requirement already satisfied: pandas>=2.2.0 in c:\\users\\them4\\anaconda3\\lib\\site-packages (from nba_api) (2.2.2)\n",
            "Requirement already satisfied: requests<3.0.0,>=2.32.3 in c:\\users\\them4\\anaconda3\\lib\\site-packages (from nba_api) (2.32.3)\n",
            "Requirement already satisfied: python-dateutil>=2.8.2 in c:\\users\\them4\\anaconda3\\lib\\site-packages (from pandas>=2.2.0->nba_api) (2.9.0.post0)\n",
            "Requirement already satisfied: pytz>=2020.1 in c:\\users\\them4\\anaconda3\\lib\\site-packages (from pandas>=2.2.0->nba_api) (2024.1)\n",
            "Requirement already satisfied: tzdata>=2022.7 in c:\\users\\them4\\anaconda3\\lib\\site-packages (from pandas>=2.2.0->nba_api) (2023.3)\n",
            "Requirement already satisfied: charset-normalizer<4,>=2 in c:\\users\\them4\\anaconda3\\lib\\site-packages (from requests<3.0.0,>=2.32.3->nba_api) (3.3.2)\n",
            "Requirement already satisfied: idna<4,>=2.5 in c:\\users\\them4\\anaconda3\\lib\\site-packages (from requests<3.0.0,>=2.32.3->nba_api) (3.7)\n",
            "Requirement already satisfied: urllib3<3,>=1.21.1 in c:\\users\\them4\\anaconda3\\lib\\site-packages (from requests<3.0.0,>=2.32.3->nba_api) (2.2.3)\n",
            "Requirement already satisfied: certifi>=2017.4.17 in c:\\users\\them4\\anaconda3\\lib\\site-packages (from requests<3.0.0,>=2.32.3->nba_api) (2024.12.14)\n",
            "Requirement already satisfied: six>=1.5 in c:\\users\\them4\\anaconda3\\lib\\site-packages (from python-dateutil>=2.8.2->pandas>=2.2.0->nba_api) (1.16.0)\n"
          ]
        }
      ],
      "source": [
        "!pip install nba_api"
      ]
    },
    {
      "cell_type": "code",
      "execution_count": 16,
      "metadata": {
        "id": "hFbCIaiQzjRe"
      },
      "outputs": [],
      "source": [
        "from nba_api.stats.endpoints import teamgamelog\n",
        "from nba_api.stats.static import teams\n",
        "from sklearn.ensemble import RandomForestClassifier\n",
        "from sklearn.ensemble import GradientBoostingClassifier\n",
        "from sklearn.model_selection import train_test_split\n",
        "from sklearn.metrics import accuracy_score\n",
        "from sklearn.model_selection import GridSearchCV\n",
        "from sklearn.model_selection import StratifiedShuffleSplit\n",
        "from sklearn.model_selection import StratifiedKFold\n",
        "from sklearn.feature_selection import SelectKBest, f_classif\n",
        "from nba_api.stats.endpoints import scoreboardv2\n",
        "from datetime import datetime, timedelta\n",
        "from pytz import timezone\n",
        "import pandas as pd\n",
        "import matplotlib.pyplot as plt\n",
        "import time"
      ]
    },
    {
      "cell_type": "code",
      "execution_count": 3,
      "metadata": {
        "id": "ROpvQATOzlLT"
      },
      "outputs": [],
      "source": [
        "nba_teams = teams.get_teams()\n",
        "teams_df = pd.DataFrame(nba_teams)"
      ]
    },
    {
      "cell_type": "code",
      "execution_count": 4,
      "metadata": {
        "id": "DIDdShX8_NM1"
      },
      "outputs": [],
      "source": [
        "# Helper function to avoid api rate limits\n",
        "def safe_request(func, *args, **kwargs):\n",
        "    while True:\n",
        "        try:\n",
        "            return func(*args, **kwargs)\n",
        "        except Exception as e:\n",
        "            print(f\"Error: {e}. Retrying in 5 seconds...\")\n",
        "            time.sleep(5)\n",
        "\n",
        "def get_team_id(abbr):\n",
        "    team = teams_df[teams_df['abbreviation'] == abbr.upper()]\n",
        "    if not team.empty:\n",
        "        return team.iloc[0]['id']\n",
        "    else:\n",
        "        raise ValueError(f\"Team abbreviation '{abbr}' not found.\")\n",
        "\n",
        "def get_team_abbr(team_id):\n",
        "    team = teams_df[teams_df['id'] == team_id]\n",
        "    if not team.empty:\n",
        "        return team.iloc[0]['abbreviation']\n",
        "    else:\n",
        "        raise ValueError(f\"No team found for ID: {team_id}\")\n",
        "\n",
        "def get_team_name(team_id):\n",
        "    team = teams_df[teams_df['id'] == team_id]\n",
        "    if not team.empty:\n",
        "        return team.iloc[0]['full_name']\n",
        "    else:\n",
        "        raise ValueError(f\"No team found for ID: {team_id}\")\n",
        "\n",
        "def get_team_stats(team_id, season, n=5):\n",
        "    log = safe_request(teamgamelog.TeamGameLog, team_id=team_id, season=season)\n",
        "    df = log.get_data_frames()[0]\n",
        "\n",
        "    df = df[['GAME_DATE', 'MATCHUP', 'WL', 'PTS', 'OREB', 'DREB', 'FG_PCT', 'AST', 'TOV', 'STL', 'BLK']].copy()\n",
        "\n",
        "    df['SEASON'] = season\n",
        "    df['TEAM'] = get_team_name(team_id)\n",
        "    df['HOME'] = df['MATCHUP'].str.contains('vs.').astype(int)\n",
        "    df['WIN'] = df['WL'].apply(lambda x: 1 if x == 'W' else 0)\n",
        "    df['STREAK'] = df['WIN'].rolling(window=n).sum().shift(-1).fillna(0)\n",
        "    df['OPP_ABBR'] = df['MATCHUP'].str.extract(r'@ (\\w+)|vs\\. (\\w+)').bfill(axis=1).iloc[:, 0]\n",
        "\n",
        "    # avg stats from last 5 games\n",
        "    rolling_features = ['PTS', 'OREB', 'DREB', 'FG_PCT', 'AST', 'TOV', 'STL', 'BLK']\n",
        "    for col in rolling_features:\n",
        "        df[f'{col}_AVG'] = df[col].rolling(window=n).mean().shift(-1)\n",
        "\n",
        "    df['DEFENSE_SCORE'] = df['STL_AVG'] + df['BLK_AVG'] + df['DREB_AVG']\n",
        "    df['AST_TOV_RATIO'] = df['AST_AVG'] / (df['TOV_AVG'] + 1)\n",
        "    df['GAME_DATE'] = pd.to_datetime(df['GAME_DATE'], format='%b %d, %Y')\n",
        "    df['EFFICIENCY'] = df['FG_PCT_AVG'] * df['PTS_AVG']\n",
        "    df['PREV_GAME_DATE'] = df['GAME_DATE'].shift(-1)\n",
        "    df['DAYS_REST'] = (df['GAME_DATE'] - df['PREV_GAME_DATE']).dt.days.clip(lower=0)\n",
        "    df['BACK_TO_BACK'] = (df['GAME_DATE'] - df['PREV_GAME_DATE']).dt.days.eq(1).astype(int)\n",
        "    df['B2B_ROAD'] = (df['BACK_TO_BACK'] == 1) & (df['HOME'] == 0).astype(int)\n",
        "\n",
        "    df['FORM_SCORE'] = df['AST_TOV_RATIO'] + df['DEFENSE_SCORE'] + df['EFFICIENCY']\n",
        "\n",
        "    df = df.dropna().reset_index(drop=True)\n",
        "    return df\n",
        "\n",
        "def add_opponent_features(df):\n",
        "    abbr_to_name = teams_df.set_index('abbreviation')['full_name'].to_dict()\n",
        "    df['OPPONENT_TEAM'] = df['OPP_ABBR'].map(abbr_to_name)\n",
        "\n",
        "    df['GAME_KEY'] = df['GAME_DATE'].astype(str) + \"_\" + df['TEAM']\n",
        "    df['OPP_GAME_KEY'] = df['GAME_DATE'].astype(str) + \"_\" + df['OPPONENT_TEAM']\n",
        "\n",
        "    eff_map = df.set_index('GAME_KEY')['EFFICIENCY'].to_dict()\n",
        "    form_map = df.set_index('GAME_KEY')['FORM_SCORE'].to_dict()\n",
        "    streak_map = df.set_index('GAME_KEY')['STREAK'].to_dict()\n",
        "\n",
        "    df['OPP_EFFICIENCY'] = df['OPP_GAME_KEY'].map(eff_map).fillna(0)\n",
        "    df['OPP_FORM_SCORE'] = df['OPP_GAME_KEY'].map(form_map).fillna(0)\n",
        "    df['OPP_STREAK'] = df['OPP_GAME_KEY'].map(streak_map).fillna(0)\n",
        "\n",
        "    df['NET_EFFICIENCY'] = df['EFFICIENCY'] - df['OPP_EFFICIENCY']\n",
        "    df['NET_FORM_SCORE'] = df['FORM_SCORE'] - df['OPP_FORM_SCORE']\n",
        "    df['NET_STREAK'] = df['STREAK'] - df['OPP_STREAK']\n",
        "\n",
        "    df = df.dropna().reset_index(drop=True)\n",
        "    return df"
      ]
    },
    {
      "cell_type": "code",
      "execution_count": 5,
      "metadata": {
        "colab": {
          "base_uri": "https://localhost:8080/"
        },
        "collapsed": true,
        "id": "PavB_CjSODF6",
        "outputId": "1cc280fc-a455-4ead-84b3-02637d128915"
      },
      "outputs": [
        {
          "name": "stdout",
          "output_type": "stream",
          "text": [
            "Loading Atlanta Hawks - 2023-24...\n",
            "Loading Boston Celtics - 2023-24...\n",
            "Loading Cleveland Cavaliers - 2023-24...\n",
            "Loading New Orleans Pelicans - 2023-24...\n",
            "Loading Chicago Bulls - 2023-24...\n",
            "Loading Dallas Mavericks - 2023-24...\n",
            "Loading Denver Nuggets - 2023-24...\n",
            "Loading Golden State Warriors - 2023-24...\n",
            "Loading Houston Rockets - 2023-24...\n",
            "Loading Los Angeles Clippers - 2023-24...\n",
            "Loading Los Angeles Lakers - 2023-24...\n",
            "Loading Miami Heat - 2023-24...\n",
            "Loading Milwaukee Bucks - 2023-24...\n",
            "Loading Minnesota Timberwolves - 2023-24...\n",
            "Loading Brooklyn Nets - 2023-24...\n",
            "Loading New York Knicks - 2023-24...\n",
            "Loading Orlando Magic - 2023-24...\n",
            "Loading Indiana Pacers - 2023-24...\n",
            "Loading Philadelphia 76ers - 2023-24...\n",
            "Loading Phoenix Suns - 2023-24...\n",
            "Loading Portland Trail Blazers - 2023-24...\n",
            "Loading Sacramento Kings - 2023-24...\n",
            "Loading San Antonio Spurs - 2023-24...\n",
            "Loading Oklahoma City Thunder - 2023-24...\n",
            "Loading Toronto Raptors - 2023-24...\n",
            "Loading Utah Jazz - 2023-24...\n",
            "Loading Memphis Grizzlies - 2023-24...\n",
            "Loading Washington Wizards - 2023-24...\n",
            "Loading Detroit Pistons - 2023-24...\n",
            "Loading Charlotte Hornets - 2023-24...\n",
            "Loading Atlanta Hawks - 2024-25...\n",
            "Loading Boston Celtics - 2024-25...\n",
            "Loading Cleveland Cavaliers - 2024-25...\n",
            "Loading New Orleans Pelicans - 2024-25...\n",
            "Loading Chicago Bulls - 2024-25...\n",
            "Loading Dallas Mavericks - 2024-25...\n",
            "Loading Denver Nuggets - 2024-25...\n",
            "Loading Golden State Warriors - 2024-25...\n",
            "Loading Houston Rockets - 2024-25...\n",
            "Loading Los Angeles Clippers - 2024-25...\n",
            "Loading Los Angeles Lakers - 2024-25...\n",
            "Loading Miami Heat - 2024-25...\n",
            "Loading Milwaukee Bucks - 2024-25...\n",
            "Loading Minnesota Timberwolves - 2024-25...\n",
            "Loading Brooklyn Nets - 2024-25...\n",
            "Loading New York Knicks - 2024-25...\n",
            "Loading Orlando Magic - 2024-25...\n",
            "Loading Indiana Pacers - 2024-25...\n",
            "Loading Philadelphia 76ers - 2024-25...\n",
            "Loading Phoenix Suns - 2024-25...\n",
            "Loading Portland Trail Blazers - 2024-25...\n",
            "Loading Sacramento Kings - 2024-25...\n",
            "Loading San Antonio Spurs - 2024-25...\n",
            "Loading Oklahoma City Thunder - 2024-25...\n",
            "Loading Toronto Raptors - 2024-25...\n",
            "Loading Utah Jazz - 2024-25...\n",
            "Loading Memphis Grizzlies - 2024-25...\n",
            "Loading Washington Wizards - 2024-25...\n",
            "Loading Detroit Pistons - 2024-25...\n",
            "Loading Charlotte Hornets - 2024-25...\n"
          ]
        }
      ],
      "source": [
        "all_team_dfs = []\n",
        "seasons = ['2023-24', '2024-25']\n",
        "for season in seasons:\n",
        "  for team in nba_teams:\n",
        "      try:\n",
        "          print(f\"Loading {team['full_name']} - {season}...\")\n",
        "          team_data = get_team_stats(team['id'], season)\n",
        "          team_data['Team'] = team['full_name']\n",
        "\n",
        "          all_team_dfs.append(team_data)\n",
        "          time.sleep(1.5)\n",
        "      except Exception as e:\n",
        "          print(f\"Skipping {team['full_name']} due to error\")"
      ]
    },
    {
      "cell_type": "code",
      "execution_count": 15,
      "metadata": {
        "id": "7RM2ELqiZImS"
      },
      "outputs": [],
      "source": [
        "df = pd.concat(all_team_dfs).reset_index(drop=True)\n",
        "team_data = add_opponent_features(df)\n",
        "features = ['AST_TOV_RATIO', 'DEFENSE_SCORE', 'EFFICIENCY', 'FG_PCT_AVG', 'PTS_AVG', 'HOME', 'B2B_ROAD', 'DAYS_REST', 'BACK_TO_BACK', 'FORM_SCORE', 'NET_FORM_SCORE', 'NET_EFFICIENCY', 'NET_STREAK', 'STREAK']\n",
        "X = df[features]\n",
        "y = df['WIN']\n",
        "\n",
        "trainSplit = StratifiedShuffleSplit(n_splits=1, test_size=0.2, random_state=42)\n",
        "\n",
        "for train_index, test_index in trainSplit.split(X, y):\n",
        "    X_train, X_test = X.iloc[train_index], X.iloc[test_index]\n",
        "    y_train, y_test = y.iloc[train_index], y.iloc[test_index]"
      ]
    },
    {
      "cell_type": "code",
      "execution_count": 17,
      "metadata": {
        "colab": {
          "base_uri": "https://localhost:8080/"
        },
        "id": "4GPcfJ2E2U6C",
        "outputId": "5a7c64d6-a064-406f-844c-a65dd31b9341"
      },
      "outputs": [
        {
          "name": "stdout",
          "output_type": "stream",
          "text": [
            "Best Random Forest params: {'max_depth': 10, 'min_samples_leaf': 1, 'min_samples_split': 5, 'n_estimators': 300}\n",
            "Best Random Forest score: 0.789735118872043\n",
            "Best Gradient Boosting params: {'learning_rate': 0.1, 'max_depth': 3, 'n_estimators': 100}\n",
            "Best Gradient Boosting score: 0.7861991917880952\n"
          ]
        }
      ],
      "source": [
        "\n",
        "best_model = None\n",
        "best_score = 0\n",
        "\n",
        "cv = StratifiedKFold(n_splits=5, shuffle=True, random_state=42)\n",
        "\n",
        "rf_param_grid = {\n",
        "    'n_estimators': [100, 300],\n",
        "    'max_depth': [None, 10, 20],\n",
        "    'min_samples_split': [2, 5, 10],\n",
        "    'min_samples_leaf': [1, 2, 4],\n",
        "}\n",
        "rf_grid = GridSearchCV(RandomForestClassifier(random_state=42), rf_param_grid, cv=cv, scoring='accuracy')\n",
        "rf_grid.fit(X_train, y_train)\n",
        "print(\"Best Random Forest params:\", rf_grid.best_params_)\n",
        "print(\"Best Random Forest score:\", rf_grid.best_score_)\n",
        "if rf_grid.best_score_ > best_score:\n",
        "    best_score = rf_grid.best_score_\n",
        "    best_model = rf_grid.best_estimator_\n",
        "\n",
        "gb_param_grid = {\n",
        "    'n_estimators': [100, 300],\n",
        "    'learning_rate': [0.05, 0.1],\n",
        "    'max_depth': [3, 5]\n",
        "}\n",
        "gb_grid = GridSearchCV(GradientBoostingClassifier(random_state=42), gb_param_grid, cv=cv, scoring='accuracy')\n",
        "gb_grid.fit(X_train, y_train)\n",
        "print(\"Best Gradient Boosting params:\", gb_grid.best_params_)\n",
        "print(\"Best Gradient Boosting score:\", gb_grid.best_score_)\n",
        "if gb_grid.best_score_ > best_score:\n",
        "    best_score = gb_grid.best_score_\n",
        "    best_model = gb_grid.best_estimator_"
      ]
    },
    {
      "cell_type": "code",
      "execution_count": 19,
      "metadata": {
        "colab": {
          "base_uri": "https://localhost:8080/",
          "height": 875
        },
        "id": "a8K0BtPdOHar",
        "outputId": "28c80f00-3778-489b-f34a-08d3da9325a9"
      },
      "outputs": [
        {
          "name": "stdout",
          "output_type": "stream",
          "text": [
            "Model Accuracy: 0.80\n",
            "Train Accuracy: 0.91\n",
            "Test Accuracy:  0.80\n"
          ]
        },
        {
          "data": {
            "image/png": "[encoded data removed]",
            "text/plain": [
              "<Figure size 2400x600 with 1 Axes>"
            ]
          },
          "metadata": {},
          "output_type": "display_data"
        },
        {
          "name": "stdout",
          "output_type": "stream",
          "text": [
            "Feature Comparison (F-test vs Model Importance):\n",
            "Feature                 F-Score     Model Importance\n",
            "AST_TOV_RATIO            152.90               0.0467\n",
            "DEFENSE_SCORE            233.70               0.0413\n",
            "EFFICIENCY               352.91               0.0519\n",
            "FG_PCT_AVG               285.22               0.0470\n",
            "PTS_AVG                  325.86               0.0447\n",
            "HOME                      21.57               0.0079\n",
            "B2B_ROAD                  14.11               0.0046\n",
            "DAYS_REST                  5.85               0.0119\n",
            "BACK_TO_BACK              12.72               0.0048\n",
            "FORM_SCORE               502.68               0.0635\n",
            "NET_FORM_SCORE           900.56               0.1280\n",
            "NET_EFFICIENCY           737.72               0.0901\n",
            "NET_STREAK              2715.79               0.3282\n",
            "STREAK                  1386.08               0.1295\n"
          ]
        }
      ],
      "source": [
        "clf = best_model\n",
        "clf.fit(X_train, y_train)\n",
        "\n",
        "y_pred = clf.predict(X_test)\n",
        "accuracy = accuracy_score(y_test, y_pred)\n",
        "print(f\"Model Accuracy: {accuracy:.2f}\")\n",
        "\n",
        "train_acc = accuracy_score(y_train, clf.predict(X_train))\n",
        "test_acc = accuracy_score(y_test, clf.predict(X_test))\n",
        "\n",
        "print(f\"Train Accuracy: {train_acc:.2f}\")\n",
        "print(f\"Test Accuracy:  {test_acc:.2f}\")\n",
        "\n",
        "importances = clf.feature_importances_\n",
        "plt.figure(figsize=(24, 6))\n",
        "plt.bar(features, importances)\n",
        "plt.title(\"Feature Importances\")\n",
        "plt.ylabel(\"Importance\")\n",
        "plt.show()\n",
        "\n",
        "selector = SelectKBest(score_func=f_classif, k='all')\n",
        "selector.fit(X_train, y_train)\n",
        "f_scores = selector.scores_\n",
        "\n",
        "print(\"Feature Comparison (F-test vs Model Importance):\")\n",
        "print(\"{:<20s} {:>10s} {:>20s}\".format(\"Feature\", \"F-Score\", \"Model Importance\"))\n",
        "for name, f, imp in zip(X_train.columns, f_scores, importances):\n",
        "    print(f\"{name:<20s} {f:10.2f} {imp:20.4f}\")"
      ]
    },
    {
      "cell_type": "code",
      "execution_count": null,
      "metadata": {
        "colab": {
          "base_uri": "https://localhost:8080/",
          "height": 559
        },
        "id": "eqf8dBlXWl9i",
        "outputId": "3dcf718b-f94c-4950-b494-54fb722922d3"
      },
      "outputs": [
        {
          "name": "stdout",
          "output_type": "stream",
          "text": [
            "Win rates by BACK_TO_BACK status:\n",
            "BACK_TO_BACK\n",
            "0    0.513154\n",
            "1    0.438662\n",
            "Name: WIN, dtype: float64\n"
          ]
        },
        {
          "data": {
            "image/png": "[encoded data removed]",
            "text/plain": [
              "<Figure size 640x480 with 1 Axes>"
            ]
          },
          "metadata": {},
          "output_type": "display_data"
        }
      ],
      "source": [
        "b2b_grouped = df.groupby('BACK_TO_BACK')['WIN'].mean()\n",
        "print(\"Win rates by BACK_TO_BACK status:\")\n",
        "print(b2b_grouped)\n",
        "\n",
        "b2b_grouped.plot(kind='bar', color=['green', 'red'], title='Win Rate on Back-to-Back vs Rested')\n",
        "plt.xticks([0, 1], ['Rested', 'Back-to-Back'], rotation=0)\n",
        "plt.ylabel('Win Rate')\n",
        "plt.show()\n",
        "\n",
        "b2b_penalty_ratio = b2b_grouped[1] / b2b_grouped[0]"
      ]
    },
    {
      "cell_type": "code",
      "execution_count": null,
      "metadata": {
        "colab": {
          "base_uri": "https://localhost:8080/"
        },
        "id": "8JmLGJDUsRgW",
        "outputId": "c5b34931-89a7-4169-9ada-8a1b425cfc8d"
      },
      "outputs": [
        {
          "name": "stdout",
          "output_type": "stream",
          "text": [
            "Fetching games for: 2025-04-08 \n",
            "\n",
            "MEM @ CHA → MEM\n",
            "CHA win probability: 0.21 (raw: 0.16)\n",
            "MEM win probability: 0.79 (raw: 0.61)\n",
            "\n",
            "CHI @ CLE → CHI\n",
            "CLE win probability: 0.50 (raw: 0.76)\n",
            "CHI win probability: 0.50 (raw: 0.77)\n",
            "\n",
            "WAS @ IND → IND\n",
            "IND win probability: 0.91 (raw: 0.89)\n",
            "WAS win probability: 0.09 (raw: 0.09)\n",
            "\n",
            "ATL @ ORL → ORL\n",
            "ORL win probability: 0.51 (raw: 0.65)\n",
            "ATL win probability: 0.49 (raw: 0.63)\n",
            "\n",
            "NOP @ BKN → BKN\n",
            "BKN win probability: 0.61 (raw: 0.43)\n",
            "NOP win probability: 0.39 (raw: 0.27)\n",
            "\n",
            "BOS @ NYK → BOS\n",
            "NYK win probability: 0.50 (raw: 0.87)\n",
            "BOS win probability: 0.50 (raw: 0.87)\n",
            "\n",
            "MIN @ MIL → MIN\n",
            "MIL win probability: 0.49 (raw: 0.91)\n",
            "MIN win probability: 0.51 (raw: 0.96)\n",
            "\n",
            "LAL @ OKC → LAL\n",
            "OKC win probability: 0.48 (raw: 0.66)\n",
            "LAL win probability: 0.52 (raw: 0.70)\n",
            "\n",
            "Error: HTTPSConnectionPool(host='stats.nba.com', port=443): Read timed out. (read timeout=30). Retrying in 5 seconds...\n",
            "GSW @ PHX → GSW\n",
            "PHX win probability: 0.06 (raw: 0.05)\n",
            "GSW win probability: 0.94 (raw: 0.89)\n",
            "\n",
            "SAS @ LAC → LAC\n",
            "LAC win probability: 0.75 (raw: 0.88)\n",
            "SAS win probability: 0.25 (raw: 0.29)\n",
            "\n"
          ]
        }
      ],
      "source": [
        "#####--------RUN MODEL FOR TODAYS GAMES--------#####\n",
        "\n",
        "today = datetime.now(timezone('US/Eastern')).strftime('%Y-%m-%d')\n",
        "tomorrow = (datetime.now(timezone('US/Eastern')) + timedelta(days=1)).strftime('%Y-%m-%d')\n",
        "date = today\n",
        "\n",
        "print(\"Fetching games for:\", date, \"\\n\")\n",
        "scoreboard = scoreboardv2.ScoreboardV2(game_date=date)\n",
        "games = scoreboard.get_data_frames()[0]\n",
        "\n",
        "matchups = games[['HOME_TEAM_ID', 'VISITOR_TEAM_ID']]\n",
        "\n",
        "for _, row in matchups.iterrows():\n",
        "    home_id = row['HOME_TEAM_ID']\n",
        "    away_id = row['VISITOR_TEAM_ID']\n",
        "    home = get_team_abbr(home_id)\n",
        "    away = get_team_abbr(away_id)\n",
        "\n",
        "    try:\n",
        "        home_df = get_team_stats(home_id, season='2024-25').head(1).copy()\n",
        "        away_df = get_team_stats(away_id, season='2024-25').head(1).copy()\n",
        "\n",
        "        home_df['OPP_ABBR'] = away\n",
        "        away_df['OPP_ABBR'] = home\n",
        "\n",
        "        matchup_df = pd.concat([home_df, away_df], ignore_index=True)\n",
        "        matchup_df = add_opponent_features(matchup_df)\n",
        "\n",
        "        home_stats = matchup_df[matchup_df['TEAM'] == get_team_name(home_id)].copy()\n",
        "        away_stats = matchup_df[matchup_df['TEAM'] == get_team_name(away_id)].copy()\n",
        "\n",
        "        X_home = home_stats[features]\n",
        "        X_away = away_stats[features]\n",
        "\n",
        "        home_proba = clf.predict_proba(X_home)[0][1]\n",
        "        away_proba = clf.predict_proba(X_away)[0][1]\n",
        "        total = home_proba + away_proba\n",
        "        nhome_proba = home_proba / total\n",
        "        naway_proba = away_proba / total\n",
        "\n",
        "        winner = home if home_proba > away_proba else away\n",
        "\n",
        "        print(f\"{away} @ {home} → {winner}\")\n",
        "        print(f\"{home} win probability: {nhome_proba:.2f} (raw: {home_proba:.2f})\")\n",
        "        print(f\"{away} win probability: {naway_proba:.2f} (raw: {away_proba:.2f})\\n\")\n",
        "\n",
        "        #total_points_estimate = home_stats[f'PTS_AVG'].values[0] + away_stats[f'PTS_AVG'].values[0]\n",
        "        #print(f\"Estimated total points (Over/Under baseline): {total_points_estimate:.1f}\")\n",
        "\n",
        "        #spread_estimate = abs(home_proba - away_proba) * 10\n",
        "        #print(f\"Estimated spread: {spread_estimate:.1f}\\n\")\n",
        "\n",
        "    except Exception as e:\n",
        "        print(f\"Error predicting {away} @ {home}: {e}\")"
      ]
    }
  ],
  "metadata": {
    "colab": {
      "include_colab_link": true,
      "provenance": []
    },
    "kernelspec": {
      "display_name": "base",
      "language": "python",
      "name": "python3"
    },
    "language_info": {
      "codemirror_mode": {
        "name": "ipython",
        "version": 3
      },
      "file_extension": ".py",
      "mimetype": "text/x-python",
      "name": "python",
      "nbconvert_exporter": "python",
      "pygments_lexer": "ipython3",
      "version": "3.12.7"
    }
  },
  "nbformat": 4,
  "nbformat_minor": 0
}
