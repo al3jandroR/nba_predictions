{
  "nbformat": 4,
  "nbformat_minor": 0,
  "metadata": {
    "colab": {
      "provenance": [],
      "include_colab_link": true
    },
    "kernelspec": {
      "name": "python3",
      "display_name": "Python 3"
    },
    "language_info": {
      "name": "python"
    }
  },
  "cells": [
    {
      "cell_type": "markdown",
      "metadata": {
        "id": "view-in-github",
        "colab_type": "text"
      },
      "source": [
        "<a href=\"https://colab.research.google.com/github/al3jandroR/nba_predictions/blob/colab/nba_predictions.ipynb\" target=\"_parent\"><img src=\"https://colab.research.google.com/assets/colab-badge.svg\" alt=\"Open In Colab\"/></a>"
      ]
    },
    {
      "cell_type": "code",
      "execution_count": 405,
      "metadata": {
        "id": "8JG7Egx858ml",
        "outputId": "e4c1861e-41c2-4df7-a57b-4c89ed109611",
        "colab": {
          "base_uri": "https://localhost:8080/"
        }
      },
      "outputs": [
        {
          "output_type": "stream",
          "name": "stdout",
          "text": [
            "Requirement already satisfied: nba_api in /usr/local/lib/python3.11/dist-packages (1.9.0)\n",
            "Requirement already satisfied: numpy>=1.26.0 in /usr/local/lib/python3.11/dist-packages (from nba_api) (2.0.2)\n",
            "Requirement already satisfied: pandas>=2.1.0 in /usr/local/lib/python3.11/dist-packages (from nba_api) (2.2.2)\n",
            "Requirement already satisfied: requests<3.0.0,>=2.32.3 in /usr/local/lib/python3.11/dist-packages (from nba_api) (2.32.3)\n",
            "Requirement already satisfied: python-dateutil>=2.8.2 in /usr/local/lib/python3.11/dist-packages (from pandas>=2.1.0->nba_api) (2.8.2)\n",
            "Requirement already satisfied: pytz>=2020.1 in /usr/local/lib/python3.11/dist-packages (from pandas>=2.1.0->nba_api) (2025.2)\n",
            "Requirement already satisfied: tzdata>=2022.7 in /usr/local/lib/python3.11/dist-packages (from pandas>=2.1.0->nba_api) (2025.2)\n",
            "Requirement already satisfied: charset-normalizer<4,>=2 in /usr/local/lib/python3.11/dist-packages (from requests<3.0.0,>=2.32.3->nba_api) (3.4.1)\n",
            "Requirement already satisfied: idna<4,>=2.5 in /usr/local/lib/python3.11/dist-packages (from requests<3.0.0,>=2.32.3->nba_api) (3.10)\n",
            "Requirement already satisfied: urllib3<3,>=1.21.1 in /usr/local/lib/python3.11/dist-packages (from requests<3.0.0,>=2.32.3->nba_api) (2.3.0)\n",
            "Requirement already satisfied: certifi>=2017.4.17 in /usr/local/lib/python3.11/dist-packages (from requests<3.0.0,>=2.32.3->nba_api) (2025.1.31)\n",
            "Requirement already satisfied: six>=1.5 in /usr/local/lib/python3.11/dist-packages (from python-dateutil>=2.8.2->pandas>=2.1.0->nba_api) (1.17.0)\n"
          ]
        }
      ],
      "source": [
        "!pip install nba_api"
      ]
    },
    {
      "cell_type": "code",
      "source": [
        "from nba_api.stats.endpoints import teamgamelog\n",
        "from nba_api.stats.static import teams\n",
        "from sklearn.ensemble import RandomForestClassifier\n",
        "from sklearn.ensemble import GradientBoostingClassifier\n",
        "from sklearn.model_selection import train_test_split\n",
        "from sklearn.metrics import accuracy_score\n",
        "from sklearn.model_selection import GridSearchCV\n",
        "from sklearn.model_selection import StratifiedShuffleSplit\n",
        "from sklearn.feature_selection import SelectKBest, f_classif\n",
        "from nba_api.stats.endpoints import scoreboardv2\n",
        "from datetime import datetime, timedelta\n",
        "from pytz import timezone\n",
        "import pandas as pd\n",
        "import matplotlib.pyplot as plt\n",
        "import time"
      ],
      "metadata": {
        "id": "hFbCIaiQzjRe"
      },
      "execution_count": 406,
      "outputs": []
    },
    {
      "cell_type": "code",
      "source": [
        "nba_teams = teams.get_teams()\n",
        "teams_df = pd.DataFrame(nba_teams)"
      ],
      "metadata": {
        "id": "ROpvQATOzlLT"
      },
      "execution_count": 407,
      "outputs": []
    },
    {
      "cell_type": "code",
      "source": [
        "# Helper function to avoid api rate limits\n",
        "def safe_request(func, *args, **kwargs):\n",
        "    while True:\n",
        "        try:\n",
        "            return func(*args, **kwargs)\n",
        "        except Exception as e:\n",
        "            print(f\"Error: {e}. Retrying in 5 seconds...\")\n",
        "            time.sleep(5)\n",
        "\n",
        "def get_team_id(abbr):\n",
        "    team = teams_df[teams_df['abbreviation'] == abbr.upper()]\n",
        "    if not team.empty:\n",
        "        return team.iloc[0]['id']\n",
        "    else:\n",
        "        raise ValueError(f\"Team abbreviation '{abbr}' not found.\")\n",
        "\n",
        "def get_team_abbr(team_id):\n",
        "    team = teams_df[teams_df['id'] == team_id]\n",
        "    if not team.empty:\n",
        "        return team.iloc[0]['abbreviation']\n",
        "    else:\n",
        "        raise ValueError(f\"No team found for ID: {team_id}\")\n",
        "\n",
        "def get_team_stats(team_id, season, n=5):\n",
        "    log = safe_request(teamgamelog.TeamGameLog, team_id=team_id, season=season)\n",
        "    df = log.get_data_frames()[0]\n",
        "\n",
        "    df = df[['GAME_DATE', 'MATCHUP', 'WL', 'PTS', 'OREB', 'DREB', 'FG_PCT', 'AST', 'TOV', 'STL', 'BLK']].copy()\n",
        "\n",
        "    df['SEASON'] = season\n",
        "    df['HOME'] = df['MATCHUP'].str.contains('vs.').astype(int)\n",
        "    df['WIN'] = df['WL'].apply(lambda x: 1 if x == 'W' else 0)\n",
        "    df['STREAK'] = df['WIN'].rolling(window=n).sum().shift(-1).fillna(0)\n",
        "\n",
        "    # avg stats from last 5 games\n",
        "    rolling_features = ['PTS', 'OREB', 'DREB', 'FG_PCT', 'AST', 'TOV', 'STL', 'BLK']\n",
        "    for col in rolling_features:\n",
        "        df[f'{col}_AVG'] = df[col].rolling(window=n).mean().shift(-1)\n",
        "\n",
        "    df['DEFENSE_SCORE'] = df['STL_AVG'] + df['BLK_AVG'] + df['DREB_AVG']\n",
        "    df['AST_TOV_RATIO'] = df['AST_AVG'] / (df['TOV_AVG'] + 1)\n",
        "    df['GAME_DATE'] = pd.to_datetime(df['GAME_DATE'], format='%b %d, %Y')\n",
        "    df['EFFICIENCY'] = df['FG_PCT_AVG'] * df['PTS_AVG']\n",
        "    df['PREV_GAME_DATE'] = df['GAME_DATE'].shift(-1)\n",
        "    df['DAYS_REST'] = (df['GAME_DATE'] - df['PREV_GAME_DATE']).dt.days.clip(lower=0)\n",
        "    df['BACK_TO_BACK'] = (df['GAME_DATE'] - df['PREV_GAME_DATE']).dt.days.eq(1).astype(int)\n",
        "    df['B2B_ROAD'] = (df['BACK_TO_BACK'] == 1) & (df['HOME'] == 0).astype(int)\n",
        "\n",
        "    df = df.dropna().reset_index(drop=True)\n",
        "    return df"
      ],
      "metadata": {
        "id": "DIDdShX8_NM1"
      },
      "execution_count": 408,
      "outputs": []
    },
    {
      "cell_type": "code",
      "source": [
        "all_team_dfs = []\n",
        "seasons = ['2023-24', '2024-25']\n",
        "for season in seasons:\n",
        "  for team in nba_teams:\n",
        "      try:\n",
        "          print(f\"Loading {team['full_name']} - {season}...\")\n",
        "          team_data = get_team_stats(team['id'], season)\n",
        "          team_data['Team'] = team['full_name']\n",
        "          all_team_dfs.append(team_data)\n",
        "          time.sleep(1.5)\n",
        "      except Exception as e:\n",
        "          print(f\"Skipping {team['full_name']} due to error\")"
      ],
      "metadata": {
        "colab": {
          "base_uri": "https://localhost:8080/"
        },
        "collapsed": true,
        "id": "PavB_CjSODF6",
        "outputId": "38ee2428-8a30-441a-f99d-998f26a9873b"
      },
      "execution_count": 409,
      "outputs": [
        {
          "output_type": "stream",
          "name": "stdout",
          "text": [
            "Loading Atlanta Hawks - 2023-24...\n",
            "Loading Boston Celtics - 2023-24...\n",
            "Loading Cleveland Cavaliers - 2023-24...\n",
            "Loading New Orleans Pelicans - 2023-24...\n",
            "Loading Chicago Bulls - 2023-24...\n",
            "Loading Dallas Mavericks - 2023-24...\n",
            "Loading Denver Nuggets - 2023-24...\n",
            "Loading Golden State Warriors - 2023-24...\n",
            "Loading Houston Rockets - 2023-24...\n",
            "Loading Los Angeles Clippers - 2023-24...\n",
            "Loading Los Angeles Lakers - 2023-24...\n",
            "Loading Miami Heat - 2023-24...\n",
            "Loading Milwaukee Bucks - 2023-24...\n",
            "Loading Minnesota Timberwolves - 2023-24...\n",
            "Loading Brooklyn Nets - 2023-24...\n",
            "Loading New York Knicks - 2023-24...\n",
            "Loading Orlando Magic - 2023-24...\n",
            "Loading Indiana Pacers - 2023-24...\n",
            "Loading Philadelphia 76ers - 2023-24...\n",
            "Loading Phoenix Suns - 2023-24...\n",
            "Loading Portland Trail Blazers - 2023-24...\n",
            "Loading Sacramento Kings - 2023-24...\n",
            "Loading San Antonio Spurs - 2023-24...\n",
            "Loading Oklahoma City Thunder - 2023-24...\n",
            "Loading Toronto Raptors - 2023-24...\n",
            "Loading Utah Jazz - 2023-24...\n",
            "Loading Memphis Grizzlies - 2023-24...\n",
            "Loading Washington Wizards - 2023-24...\n",
            "Loading Detroit Pistons - 2023-24...\n",
            "Loading Charlotte Hornets - 2023-24...\n",
            "Loading Atlanta Hawks - 2024-25...\n",
            "Loading Boston Celtics - 2024-25...\n",
            "Loading Cleveland Cavaliers - 2024-25...\n",
            "Loading New Orleans Pelicans - 2024-25...\n",
            "Loading Chicago Bulls - 2024-25...\n",
            "Loading Dallas Mavericks - 2024-25...\n",
            "Loading Denver Nuggets - 2024-25...\n",
            "Loading Golden State Warriors - 2024-25...\n",
            "Loading Houston Rockets - 2024-25...\n",
            "Loading Los Angeles Clippers - 2024-25...\n",
            "Loading Los Angeles Lakers - 2024-25...\n",
            "Loading Miami Heat - 2024-25...\n",
            "Loading Milwaukee Bucks - 2024-25...\n",
            "Loading Minnesota Timberwolves - 2024-25...\n",
            "Loading Brooklyn Nets - 2024-25...\n",
            "Loading New York Knicks - 2024-25...\n",
            "Loading Orlando Magic - 2024-25...\n",
            "Loading Indiana Pacers - 2024-25...\n",
            "Loading Philadelphia 76ers - 2024-25...\n",
            "Loading Phoenix Suns - 2024-25...\n",
            "Loading Portland Trail Blazers - 2024-25...\n",
            "Loading Sacramento Kings - 2024-25...\n",
            "Loading San Antonio Spurs - 2024-25...\n",
            "Loading Oklahoma City Thunder - 2024-25...\n",
            "Loading Toronto Raptors - 2024-25...\n",
            "Loading Utah Jazz - 2024-25...\n",
            "Loading Memphis Grizzlies - 2024-25...\n",
            "Loading Washington Wizards - 2024-25...\n",
            "Loading Detroit Pistons - 2024-25...\n",
            "Loading Charlotte Hornets - 2024-25...\n"
          ]
        }
      ]
    },
    {
      "cell_type": "code",
      "source": [
        "df = pd.concat(all_team_dfs).reset_index(drop=True)\n",
        "features = ['AST_TOV_RATIO', 'DEFENSE_SCORE', 'EFFICIENCY', 'FG_PCT_AVG', 'PTS_AVG', 'HOME', 'B2B_ROAD', 'DAYS_REST', 'BACK_TO_BACK', 'STREAK']\n",
        "X = df[features]\n",
        "y = df['WIN']\n",
        "\n",
        "sss = StratifiedShuffleSplit(n_splits=1, test_size=0.3, random_state=42)\n",
        "for train_index, test_index in sss.split(X, y):\n",
        "    X_train, X_test = X.iloc[train_index], X.iloc[test_index]\n",
        "    y_train, y_test = y.iloc[train_index], y.iloc[test_index]"
      ],
      "metadata": {
        "id": "7RM2ELqiZImS"
      },
      "execution_count": 449,
      "outputs": []
    },
    {
      "cell_type": "code",
      "source": [
        "best_model = None\n",
        "best_score = 0\n",
        "\n",
        "rf_param_grid = {\n",
        "    'n_estimators': [100, 300],\n",
        "    'max_depth': [None, 10, 20],\n",
        "    'min_samples_split': [2, 5, 10],\n",
        "    'min_samples_leaf': [1, 2, 4],\n",
        "}\n",
        "rf_grid = GridSearchCV(RandomForestClassifier(random_state=42), rf_param_grid, cv=3, scoring='accuracy')\n",
        "rf_grid.fit(X_train, y_train)\n",
        "print(\"Best Random Forest params:\", rf_grid.best_params_)\n",
        "print(\"Best Random Forest score:\", rf_grid.best_score_)\n",
        "if rf_grid.best_score_ > best_score:\n",
        "    best_score = rf_grid.best_score_\n",
        "    best_model = rf_grid.best_estimator_\n",
        "\n",
        "gb_param_grid = {\n",
        "    'n_estimators': [100, 300],\n",
        "    'learning_rate': [0.05, 0.1],\n",
        "    'max_depth': [3, 5]\n",
        "}\n",
        "gb_grid = GridSearchCV(GradientBoostingClassifier(random_state=42), gb_param_grid, cv=3, scoring='accuracy')\n",
        "gb_grid.fit(X_train, y_train)\n",
        "print(\"Best Gradient Boosting params:\", gb_grid.best_params_)\n",
        "print(\"Best Gradient Boosting score:\", gb_grid.best_score_)\n",
        "if gb_grid.best_score_ > best_score:\n",
        "    best_score = gb_grid.best_score_\n",
        "    best_model = gb_grid.best_estimator_"
      ],
      "metadata": {
        "id": "4GPcfJ2E2U6C",
        "colab": {
          "base_uri": "https://localhost:8080/"
        },
        "outputId": "66678df2-e850-46e1-ac17-09f565f36d42"
      },
      "execution_count": 417,
      "outputs": [
        {
          "output_type": "stream",
          "name": "stdout",
          "text": [
            "Best Random Forest params: {'max_depth': 10, 'min_samples_leaf': 1, 'min_samples_split': 10, 'n_estimators': 300}\n",
            "Best Random Forest score: 0.7070876068864501\n",
            "Best Gradient Boosting params: {'learning_rate': 0.05, 'max_depth': 3, 'n_estimators': 100}\n",
            "Best Gradient Boosting score: 0.7111500099933593\n"
          ]
        }
      ]
    },
    {
      "cell_type": "code",
      "source": [
        "clf = best_model\n",
        "clf.fit(X_train, y_train)\n",
        "\n",
        "y_pred = clf.predict(X_test)\n",
        "accuracy = accuracy_score(y_test, y_pred)\n",
        "print(f\"Model Accuracy: {accuracy:.2f}\")\n",
        "\n",
        "train_acc = accuracy_score(y_train, clf.predict(X_train))\n",
        "test_acc = accuracy_score(y_test, clf.predict(X_test))\n",
        "\n",
        "print(f\"Train Accuracy: {train_acc:.2f}\")\n",
        "print(f\"Test Accuracy:  {test_acc:.2f}\")\n",
        "\n",
        "importances = clf.feature_importances_\n",
        "plt.figure(figsize=(14, 6))\n",
        "plt.bar(features, importances)\n",
        "plt.title(\"Feature Importances\")\n",
        "plt.ylabel(\"Importance\")\n",
        "plt.show()\n",
        "\n",
        "selector = SelectKBest(score_func=f_classif, k='all')\n",
        "selector.fit(X_train, y_train)\n",
        "f_scores = selector.scores_\n",
        "\n",
        "print(\"Feature Comparison (F-test vs Model Importance):\")\n",
        "print(\"{:<20s} {:>10s} {:>20s}\".format(\"Feature\", \"F-Score\", \"Model Importance\"))\n",
        "for name, f, imp in zip(X_train.columns, f_scores, importances):\n",
        "    print(f\"{name:<20s} {f:10.2f} {imp:20.4f}\")"
      ],
      "metadata": {
        "id": "a8K0BtPdOHar",
        "colab": {
          "base_uri": "https://localhost:8080/",
          "height": 805
        },
        "outputId": "9fef47c0-1985-450c-bc03-4a01533980f2"
      },
      "execution_count": 450,
      "outputs": [
        {
          "output_type": "stream",
          "name": "stdout",
          "text": [
            "Model Accuracy: 0.73\n",
            "Train Accuracy: 0.73\n",
            "Test Accuracy:  0.73\n"
          ]
        },
        {
          "output_type": "display_data",
          "data": {
            "text/plain": [
              "<Figure size 1400x600 with 1 Axes>"
            ],
            "image/png": "[encoded data removed]"
          },
          "metadata": {}
        },
        {
          "output_type": "stream",
          "name": "stdout",
          "text": [
            "Feature Comparison (F-test vs Model Importance):\n",
            "Feature                 F-Score     Model Importance\n",
            "AST_TOV_RATIO            117.53               0.0244\n",
            "DEFENSE_SCORE            192.72               0.0072\n",
            "EFFICIENCY               274.69               0.0217\n",
            "FG_PCT_AVG               207.45               0.0318\n",
            "PTS_AVG                  269.25               0.0147\n",
            "HOME                      17.65               0.0123\n",
            "B2B_ROAD                  12.20               0.0021\n",
            "DAYS_REST                  4.60               0.0091\n",
            "BACK_TO_BACK               9.92               0.0034\n",
            "STREAK                  1132.97               0.8732\n"
          ]
        }
      ]
    },
    {
      "cell_type": "code",
      "source": [
        "b2b_grouped = df.groupby('BACK_TO_BACK')['WIN'].mean()\n",
        "print(\"Win rates by BACK_TO_BACK status:\")\n",
        "print(b2b_grouped)\n",
        "\n",
        "b2b_grouped.plot(kind='bar', color=['green', 'red'], title='Win Rate on Back-to-Back vs Rested')\n",
        "plt.xticks([0, 1], ['Rested', 'Back-to-Back'], rotation=0)\n",
        "plt.ylabel('Win Rate')\n",
        "plt.show()\n",
        "\n",
        "b2b_penalty_ratio = b2b_grouped[1] / b2b_grouped[0]"
      ],
      "metadata": {
        "colab": {
          "base_uri": "https://localhost:8080/",
          "height": 559
        },
        "id": "eqf8dBlXWl9i",
        "outputId": "ce7bb62b-596c-4b62-a0cd-bef1948c5f9c"
      },
      "execution_count": 433,
      "outputs": [
        {
          "output_type": "stream",
          "name": "stdout",
          "text": [
            "Win rates by BACK_TO_BACK status:\n",
            "BACK_TO_BACK\n",
            "0    0.513154\n",
            "1    0.438662\n",
            "Name: WIN, dtype: float64\n"
          ]
        },
        {
          "output_type": "display_data",
          "data": {
            "text/plain": [
              "<Figure size 640x480 with 1 Axes>"
            ],
            "image/png": "[encoded data removed]"
          },
          "metadata": {}
        }
      ]
    },
    {
      "cell_type": "code",
      "source": [
        "#####--------RUN MODEL FOR TODAYS GAMES--------#####\n",
        "\n",
        "today = datetime.now(timezone('US/Eastern')).strftime('%Y-%m-%d')\n",
        "tomorrow = (datetime.now(timezone('US/Eastern')) + timedelta(days=1)).strftime('%Y-%m-%d')\n",
        "date = today\n",
        "\n",
        "print(\"Fetching games for:\", date, \"\\n\")\n",
        "scoreboard = scoreboardv2.ScoreboardV2(game_date=date)\n",
        "games = scoreboard.get_data_frames()[0]\n",
        "\n",
        "matchups = games[['HOME_TEAM_ID', 'VISITOR_TEAM_ID']]\n",
        "\n",
        "for _, row in matchups.iterrows():\n",
        "    home_id = row['HOME_TEAM_ID']\n",
        "    away_id = row['VISITOR_TEAM_ID']\n",
        "    home = get_team_abbr(home_id)\n",
        "    away = get_team_abbr(away_id)\n",
        "\n",
        "    try:\n",
        "        home_stats = get_team_stats(home_id, season='2024-25').head(1)[features]\n",
        "        away_stats = get_team_stats(away_id, season='2024-25').head(1)[features]\n",
        "\n",
        "        home_proba = clf.predict_proba(home_stats)[0][1]\n",
        "        away_proba = clf.predict_proba(away_stats)[0][1]\n",
        "        total = home_proba + away_proba\n",
        "        nhome_proba = home_proba / total\n",
        "        naway_proba = away_proba / total\n",
        "\n",
        "        winner = home if home_proba > away_proba else away\n",
        "\n",
        "        print(f\"{away} @ {home} → {winner}\")\n",
        "        print(f\"{home} win probability: {nhome_proba:.2f} (raw: {home_proba:.2f})\")\n",
        "        print(f\"{away} win probability: {naway_proba:.2f} (raw: {away_proba:.2f})\\n\")\n",
        "\n",
        "        #total_points_estimate = home_stats[f'PTS_AVG'].values[0] + away_stats[f'PTS_AVG'].values[0]\n",
        "        #print(f\"Estimated total points (Over/Under baseline): {total_points_estimate:.1f}\")\n",
        "\n",
        "        #spread_estimate = abs(home_proba - away_proba) * 10\n",
        "        #print(f\"Estimated spread: {spread_estimate:.1f}\\n\")\n",
        "\n",
        "    except Exception as e:\n",
        "        print(f\"Error predicting {away} @ {home}: {e}\")"
      ],
      "metadata": {
        "colab": {
          "base_uri": "https://localhost:8080/"
        },
        "id": "8JmLGJDUsRgW",
        "outputId": "47ea8235-99c1-4c7d-fb8f-066f4775e53b"
      },
      "execution_count": 435,
      "outputs": [
        {
          "output_type": "stream",
          "name": "stdout",
          "text": [
            "Fetching games for: 2025-04-08 \n",
            "\n",
            "MEM @ CHA → MEM\n",
            "CHA win probability: 0.34 (raw: 0.21)\n",
            "MEM win probability: 0.66 (raw: 0.41)\n",
            "\n",
            "CHI @ CLE → CLE\n",
            "CLE win probability: 0.50 (raw: 0.57)\n",
            "CHI win probability: 0.50 (raw: 0.57)\n",
            "\n",
            "WAS @ IND → IND\n",
            "IND win probability: 0.78 (raw: 0.79)\n",
            "WAS win probability: 0.22 (raw: 0.23)\n",
            "\n",
            "ATL @ ORL → ORL\n",
            "ORL win probability: 0.60 (raw: 0.61)\n",
            "ATL win probability: 0.40 (raw: 0.41)\n",
            "\n",
            "NOP @ BKN → BKN\n",
            "BKN win probability: 0.62 (raw: 0.40)\n",
            "NOP win probability: 0.38 (raw: 0.24)\n",
            "\n",
            "BOS @ NYK → NYK\n",
            "NYK win probability: 0.50 (raw: 0.79)\n",
            "BOS win probability: 0.50 (raw: 0.79)\n",
            "\n",
            "MIN @ MIL → MIN\n",
            "MIL win probability: 0.45 (raw: 0.80)\n",
            "MIN win probability: 0.55 (raw: 0.96)\n",
            "\n",
            "Error: HTTPSConnectionPool(host='stats.nba.com', port=443): Read timed out. (read timeout=30). Retrying in 5 seconds...\n",
            "Error: HTTPSConnectionPool(host='stats.nba.com', port=443): Read timed out. (read timeout=30). Retrying in 5 seconds...\n",
            "LAL @ OKC → LAL\n",
            "OKC win probability: 0.43 (raw: 0.58)\n",
            "LAL win probability: 0.57 (raw: 0.79)\n",
            "\n",
            "GSW @ PHX → GSW\n",
            "PHX win probability: 0.04 (raw: 0.03)\n",
            "GSW win probability: 0.96 (raw: 0.79)\n",
            "\n",
            "SAS @ LAC → LAC\n",
            "LAC win probability: 0.75 (raw: 0.79)\n",
            "SAS win probability: 0.25 (raw: 0.26)\n",
            "\n"
          ]
        }
      ]
    }
  ]
}